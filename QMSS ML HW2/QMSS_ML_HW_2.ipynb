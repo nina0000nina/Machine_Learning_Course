{
 "cells": [
  {
   "cell_type": "markdown",
   "metadata": {
    "id": "EuN_q-FXZTAo"
   },
   "source": [
    "# Mahcine Learning HW #2 Question 1\n",
    "\n",
    "## Zehui Wang ##\n",
    "\n"
   ]
  },
  {
   "cell_type": "markdown",
   "metadata": {
    "id": "7JzWSKV0ZgYo"
   },
   "source": [
    "## Question 1. Find the url for the California Test Score Data Set from the following website:\n",
    "\n",
    "https://vincentarelbundock.github.io/Rdatasets/datasets.html\n",
    "\n",
    "Read through the \"DOC\" file to understand the variables in the dataset, then use the following url to import the data.  \n",
    "\n",
    "https://vincentarelbundock.github.io/Rdatasets/csv/Ecdat/Caschool.csv\n",
    "\n",
    "The target data (i.e. the dependent variable) is named \"testscr\".  You can use all  variables in the data except for \"readscr\" and \"mathscr\" in the following analysis.  (These two variables were used to generate the dependent variable).\n"
   ]
  },
  {
   "cell_type": "code",
   "execution_count": 31,
   "metadata": {
    "colab": {
     "base_uri": "https://localhost:8080/",
     "height": 347
    },
    "id": "BIvy7l9PNBBa",
    "outputId": "51fb443e-05cc-4a0b-83d7-1c2a1b6a60ec"
   },
   "outputs": [
    {
     "data": {
      "text/html": [
       "<div>\n",
       "<style scoped>\n",
       "    .dataframe tbody tr th:only-of-type {\n",
       "        vertical-align: middle;\n",
       "    }\n",
       "\n",
       "    .dataframe tbody tr th {\n",
       "        vertical-align: top;\n",
       "    }\n",
       "\n",
       "    .dataframe thead th {\n",
       "        text-align: right;\n",
       "    }\n",
       "</style>\n",
       "<table border=\"1\" class=\"dataframe\">\n",
       "  <thead>\n",
       "    <tr style=\"text-align: right;\">\n",
       "      <th></th>\n",
       "      <th>Unnamed: 0</th>\n",
       "      <th>distcod</th>\n",
       "      <th>county</th>\n",
       "      <th>district</th>\n",
       "      <th>grspan</th>\n",
       "      <th>enrltot</th>\n",
       "      <th>teachers</th>\n",
       "      <th>calwpct</th>\n",
       "      <th>mealpct</th>\n",
       "      <th>computer</th>\n",
       "      <th>testscr</th>\n",
       "      <th>compstu</th>\n",
       "      <th>expnstu</th>\n",
       "      <th>str</th>\n",
       "      <th>avginc</th>\n",
       "      <th>elpct</th>\n",
       "      <th>readscr</th>\n",
       "      <th>mathscr</th>\n",
       "    </tr>\n",
       "  </thead>\n",
       "  <tbody>\n",
       "    <tr>\n",
       "      <th>0</th>\n",
       "      <td>1</td>\n",
       "      <td>75119</td>\n",
       "      <td>Alameda</td>\n",
       "      <td>Sunol Glen Unified</td>\n",
       "      <td>KK-08</td>\n",
       "      <td>195</td>\n",
       "      <td>10.900000</td>\n",
       "      <td>0.510200</td>\n",
       "      <td>2.040800</td>\n",
       "      <td>67</td>\n",
       "      <td>690.799988</td>\n",
       "      <td>0.343590</td>\n",
       "      <td>6384.911133</td>\n",
       "      <td>17.889910</td>\n",
       "      <td>22.690001</td>\n",
       "      <td>0.000000</td>\n",
       "      <td>691.599976</td>\n",
       "      <td>690.000000</td>\n",
       "    </tr>\n",
       "    <tr>\n",
       "      <th>1</th>\n",
       "      <td>2</td>\n",
       "      <td>61499</td>\n",
       "      <td>Butte</td>\n",
       "      <td>Manzanita Elementary</td>\n",
       "      <td>KK-08</td>\n",
       "      <td>240</td>\n",
       "      <td>11.150000</td>\n",
       "      <td>15.416700</td>\n",
       "      <td>47.916698</td>\n",
       "      <td>101</td>\n",
       "      <td>661.200012</td>\n",
       "      <td>0.420833</td>\n",
       "      <td>5099.380859</td>\n",
       "      <td>21.524664</td>\n",
       "      <td>9.824000</td>\n",
       "      <td>4.583333</td>\n",
       "      <td>660.500000</td>\n",
       "      <td>661.900024</td>\n",
       "    </tr>\n",
       "    <tr>\n",
       "      <th>2</th>\n",
       "      <td>3</td>\n",
       "      <td>61549</td>\n",
       "      <td>Butte</td>\n",
       "      <td>Thermalito Union Elementary</td>\n",
       "      <td>KK-08</td>\n",
       "      <td>1550</td>\n",
       "      <td>82.900002</td>\n",
       "      <td>55.032299</td>\n",
       "      <td>76.322601</td>\n",
       "      <td>169</td>\n",
       "      <td>643.599976</td>\n",
       "      <td>0.109032</td>\n",
       "      <td>5501.954590</td>\n",
       "      <td>18.697226</td>\n",
       "      <td>8.978000</td>\n",
       "      <td>30.000002</td>\n",
       "      <td>636.299988</td>\n",
       "      <td>650.900024</td>\n",
       "    </tr>\n",
       "    <tr>\n",
       "      <th>3</th>\n",
       "      <td>4</td>\n",
       "      <td>61457</td>\n",
       "      <td>Butte</td>\n",
       "      <td>Golden Feather Union Elementary</td>\n",
       "      <td>KK-08</td>\n",
       "      <td>243</td>\n",
       "      <td>14.000000</td>\n",
       "      <td>36.475399</td>\n",
       "      <td>77.049202</td>\n",
       "      <td>85</td>\n",
       "      <td>647.700012</td>\n",
       "      <td>0.349794</td>\n",
       "      <td>7101.831055</td>\n",
       "      <td>17.357143</td>\n",
       "      <td>8.978000</td>\n",
       "      <td>0.000000</td>\n",
       "      <td>651.900024</td>\n",
       "      <td>643.500000</td>\n",
       "    </tr>\n",
       "    <tr>\n",
       "      <th>4</th>\n",
       "      <td>5</td>\n",
       "      <td>61523</td>\n",
       "      <td>Butte</td>\n",
       "      <td>Palermo Union Elementary</td>\n",
       "      <td>KK-08</td>\n",
       "      <td>1335</td>\n",
       "      <td>71.500000</td>\n",
       "      <td>33.108601</td>\n",
       "      <td>78.427002</td>\n",
       "      <td>171</td>\n",
       "      <td>640.849976</td>\n",
       "      <td>0.128090</td>\n",
       "      <td>5235.987793</td>\n",
       "      <td>18.671329</td>\n",
       "      <td>9.080333</td>\n",
       "      <td>13.857677</td>\n",
       "      <td>641.799988</td>\n",
       "      <td>639.900024</td>\n",
       "    </tr>\n",
       "    <tr>\n",
       "      <th>5</th>\n",
       "      <td>6</td>\n",
       "      <td>62042</td>\n",
       "      <td>Fresno</td>\n",
       "      <td>Burrel Union Elementary</td>\n",
       "      <td>KK-08</td>\n",
       "      <td>137</td>\n",
       "      <td>6.400000</td>\n",
       "      <td>12.318800</td>\n",
       "      <td>86.956497</td>\n",
       "      <td>25</td>\n",
       "      <td>605.550049</td>\n",
       "      <td>0.182482</td>\n",
       "      <td>5580.146973</td>\n",
       "      <td>21.406250</td>\n",
       "      <td>10.415000</td>\n",
       "      <td>12.408759</td>\n",
       "      <td>605.700012</td>\n",
       "      <td>605.400024</td>\n",
       "    </tr>\n",
       "    <tr>\n",
       "      <th>6</th>\n",
       "      <td>7</td>\n",
       "      <td>68536</td>\n",
       "      <td>San Joaquin</td>\n",
       "      <td>Holt Union Elementary</td>\n",
       "      <td>KK-08</td>\n",
       "      <td>195</td>\n",
       "      <td>10.000000</td>\n",
       "      <td>12.903200</td>\n",
       "      <td>94.623703</td>\n",
       "      <td>28</td>\n",
       "      <td>606.750000</td>\n",
       "      <td>0.143590</td>\n",
       "      <td>5253.331055</td>\n",
       "      <td>19.500000</td>\n",
       "      <td>6.577000</td>\n",
       "      <td>68.717949</td>\n",
       "      <td>604.500000</td>\n",
       "      <td>609.000000</td>\n",
       "    </tr>\n",
       "    <tr>\n",
       "      <th>7</th>\n",
       "      <td>8</td>\n",
       "      <td>63834</td>\n",
       "      <td>Kern</td>\n",
       "      <td>Vineland Elementary</td>\n",
       "      <td>KK-08</td>\n",
       "      <td>888</td>\n",
       "      <td>42.500000</td>\n",
       "      <td>18.806299</td>\n",
       "      <td>100.000000</td>\n",
       "      <td>66</td>\n",
       "      <td>609.000000</td>\n",
       "      <td>0.074324</td>\n",
       "      <td>4565.746094</td>\n",
       "      <td>20.894117</td>\n",
       "      <td>8.174000</td>\n",
       "      <td>46.959461</td>\n",
       "      <td>605.500000</td>\n",
       "      <td>612.500000</td>\n",
       "    </tr>\n",
       "    <tr>\n",
       "      <th>8</th>\n",
       "      <td>9</td>\n",
       "      <td>62331</td>\n",
       "      <td>Fresno</td>\n",
       "      <td>Orange Center Elementary</td>\n",
       "      <td>KK-08</td>\n",
       "      <td>379</td>\n",
       "      <td>19.000000</td>\n",
       "      <td>32.189999</td>\n",
       "      <td>93.139801</td>\n",
       "      <td>35</td>\n",
       "      <td>612.500000</td>\n",
       "      <td>0.092348</td>\n",
       "      <td>5355.548340</td>\n",
       "      <td>19.947369</td>\n",
       "      <td>7.385000</td>\n",
       "      <td>30.079157</td>\n",
       "      <td>608.900024</td>\n",
       "      <td>616.099976</td>\n",
       "    </tr>\n",
       "    <tr>\n",
       "      <th>9</th>\n",
       "      <td>10</td>\n",
       "      <td>67306</td>\n",
       "      <td>Sacramento</td>\n",
       "      <td>Del Paso Heights Elementary</td>\n",
       "      <td>KK-06</td>\n",
       "      <td>2247</td>\n",
       "      <td>108.000000</td>\n",
       "      <td>78.994202</td>\n",
       "      <td>87.316399</td>\n",
       "      <td>0</td>\n",
       "      <td>612.650024</td>\n",
       "      <td>0.000000</td>\n",
       "      <td>5036.211426</td>\n",
       "      <td>20.805555</td>\n",
       "      <td>11.613333</td>\n",
       "      <td>40.275921</td>\n",
       "      <td>611.900024</td>\n",
       "      <td>613.400024</td>\n",
       "    </tr>\n",
       "  </tbody>\n",
       "</table>\n",
       "</div>"
      ],
      "text/plain": [
       "   Unnamed: 0  distcod       county                         district grspan  \\\n",
       "0           1    75119      Alameda               Sunol Glen Unified  KK-08   \n",
       "1           2    61499        Butte             Manzanita Elementary  KK-08   \n",
       "2           3    61549        Butte      Thermalito Union Elementary  KK-08   \n",
       "3           4    61457        Butte  Golden Feather Union Elementary  KK-08   \n",
       "4           5    61523        Butte         Palermo Union Elementary  KK-08   \n",
       "5           6    62042       Fresno          Burrel Union Elementary  KK-08   \n",
       "6           7    68536  San Joaquin            Holt Union Elementary  KK-08   \n",
       "7           8    63834         Kern              Vineland Elementary  KK-08   \n",
       "8           9    62331       Fresno         Orange Center Elementary  KK-08   \n",
       "9          10    67306   Sacramento      Del Paso Heights Elementary  KK-06   \n",
       "\n",
       "   enrltot    teachers    calwpct     mealpct  computer     testscr   compstu  \\\n",
       "0      195   10.900000   0.510200    2.040800        67  690.799988  0.343590   \n",
       "1      240   11.150000  15.416700   47.916698       101  661.200012  0.420833   \n",
       "2     1550   82.900002  55.032299   76.322601       169  643.599976  0.109032   \n",
       "3      243   14.000000  36.475399   77.049202        85  647.700012  0.349794   \n",
       "4     1335   71.500000  33.108601   78.427002       171  640.849976  0.128090   \n",
       "5      137    6.400000  12.318800   86.956497        25  605.550049  0.182482   \n",
       "6      195   10.000000  12.903200   94.623703        28  606.750000  0.143590   \n",
       "7      888   42.500000  18.806299  100.000000        66  609.000000  0.074324   \n",
       "8      379   19.000000  32.189999   93.139801        35  612.500000  0.092348   \n",
       "9     2247  108.000000  78.994202   87.316399         0  612.650024  0.000000   \n",
       "\n",
       "       expnstu        str     avginc      elpct     readscr     mathscr  \n",
       "0  6384.911133  17.889910  22.690001   0.000000  691.599976  690.000000  \n",
       "1  5099.380859  21.524664   9.824000   4.583333  660.500000  661.900024  \n",
       "2  5501.954590  18.697226   8.978000  30.000002  636.299988  650.900024  \n",
       "3  7101.831055  17.357143   8.978000   0.000000  651.900024  643.500000  \n",
       "4  5235.987793  18.671329   9.080333  13.857677  641.799988  639.900024  \n",
       "5  5580.146973  21.406250  10.415000  12.408759  605.700012  605.400024  \n",
       "6  5253.331055  19.500000   6.577000  68.717949  604.500000  609.000000  \n",
       "7  4565.746094  20.894117   8.174000  46.959461  605.500000  612.500000  \n",
       "8  5355.548340  19.947369   7.385000  30.079157  608.900024  616.099976  \n",
       "9  5036.211426  20.805555  11.613333  40.275921  611.900024  613.400024  "
      ]
     },
     "execution_count": 31,
     "metadata": {},
     "output_type": "execute_result"
    }
   ],
   "source": [
    "from matplotlib import pyplot as plt\n",
    "import pandas as pd\n",
    "import numpy as np\n",
    "import seaborn as sns\n",
    "\n",
    "df = pd.read_csv(\"https://vincentarelbundock.github.io/Rdatasets/csv/Ecdat/Caschool.csv\")\n",
    "df.head(10)"
   ]
  },
  {
   "cell_type": "markdown",
   "metadata": {
    "id": "qjmXrV_MMF8x"
   },
   "source": [
    "## 1.1 Visualize the univariate distribution of the target feature and each of the three continuous explanatory variables that you think are likely to have a relationship with the target feature. "
   ]
  },
  {
   "cell_type": "code",
   "execution_count": 2,
   "metadata": {
    "colab": {
     "base_uri": "https://localhost:8080/",
     "height": 296
    },
    "id": "sncxoNw6WqKE",
    "outputId": "c5ece2fc-696f-4412-8f74-1011797425df"
   },
   "outputs": [
    {
     "data": {
      "text/plain": [
       "Text(0, 0.5, 'count')"
      ]
     },
     "execution_count": 2,
     "metadata": {},
     "output_type": "execute_result"
    },
    {
     "data": {
      "image/png": "[encoded data removed]",
      "text/plain": [
       "<Figure size 432x288 with 1 Axes>"
      ]
     },
     "metadata": {
      "needs_background": "light"
     },
     "output_type": "display_data"
    }
   ],
   "source": [
    "plt.hist(df['testscr'])\n",
    "plt.xlabel('testscr')\n",
    "plt.ylabel('count')"
   ]
  },
  {
   "cell_type": "code",
   "execution_count": 3,
   "metadata": {
    "colab": {
     "base_uri": "https://localhost:8080/",
     "height": 281
    },
    "id": "wtLNSbUsm4Q_",
    "outputId": "d1fe2ae0-4469-4568-d4e2-6037949737d6"
   },
   "outputs": [
    {
     "data": {
      "image/png": "[encoded data removed]",
      "text/plain": [
       "<Figure size 432x288 with 1 Axes>"
      ]
     },
     "metadata": {
      "needs_background": "light"
     },
     "output_type": "display_data"
    }
   ],
   "source": [
    "# boxplot\n",
    "plt.boxplot(df[\"testscr\"])\n",
    "plt.ylabel('Test Score')\n",
    "plt.title('Boxplot Test Score')\n",
    "plt.show()"
   ]
  },
  {
   "cell_type": "code",
   "execution_count": 4,
   "metadata": {
    "colab": {
     "base_uri": "https://localhost:8080/",
     "height": 296
    },
    "id": "dqUzSDalXaxU",
    "outputId": "2b93329c-a3f2-4012-f3de-7c88e41d1c5d"
   },
   "outputs": [
    {
     "data": {
      "text/plain": [
       "Text(0, 0.5, 'count')"
      ]
     },
     "execution_count": 4,
     "metadata": {},
     "output_type": "execute_result"
    },
    {
     "data": {
      "image/png": "[encoded data removed]",
      "text/plain": [
       "<Figure size 432x288 with 1 Axes>"
      ]
     },
     "metadata": {
      "needs_background": "light"
     },
     "output_type": "display_data"
    }
   ],
   "source": [
    "df['compstu'].hist()\n",
    "plt.xlabel('compstu')\n",
    "plt.ylabel('count')"
   ]
  },
  {
   "cell_type": "code",
   "execution_count": 5,
   "metadata": {
    "id": "PacZmYHPZDhN"
   },
   "outputs": [
    {
     "data": {
      "text/plain": [
       "Text(0, 0.5, 'count')"
      ]
     },
     "execution_count": 5,
     "metadata": {},
     "output_type": "execute_result"
    },
    {
     "data": {
      "image/png": "[encoded data removed]",
      "text/plain": [
       "<Figure size 432x288 with 1 Axes>"
      ]
     },
     "metadata": {
      "needs_background": "light"
     },
     "output_type": "display_data"
    }
   ],
   "source": [
    "df['avginc'].hist()\n",
    "plt.xlabel('avginc')\n",
    "plt.ylabel('count')"
   ]
  },
  {
   "cell_type": "code",
   "execution_count": 6,
   "metadata": {
    "id": "fhTlF6aLaJUH"
   },
   "outputs": [
    {
     "data": {
      "text/plain": [
       "Text(0, 0.5, 'count')"
      ]
     },
     "execution_count": 6,
     "metadata": {},
     "output_type": "execute_result"
    },
    {
     "data": {
      "image/png": "[encoded data removed]",
      "text/plain": [
       "<Figure size 432x288 with 1 Axes>"
      ]
     },
     "metadata": {
      "needs_background": "light"
     },
     "output_type": "display_data"
    }
   ],
   "source": [
    "df['expnstu'].hist()\n",
    "plt.xlabel('expnstu')\n",
    "plt.ylabel('count')"
   ]
  },
  {
   "cell_type": "markdown",
   "metadata": {
    "id": "vSEoTsJKkg5W"
   },
   "source": [
    "## 1.2 Visualize the dependency of the target on each feature from 1.1."
   ]
  },
  {
   "cell_type": "code",
   "execution_count": 7,
   "metadata": {
    "colab": {
     "base_uri": "https://localhost:8080/",
     "height": 312
    },
    "id": "-LwVUVwWedL4",
    "outputId": "7f0110ee-3100-4709-f077-2f7922c16e8b"
   },
   "outputs": [
    {
     "data": {
      "text/plain": [
       "Text(0, 0.5, 'testscr')"
      ]
     },
     "execution_count": 7,
     "metadata": {},
     "output_type": "execute_result"
    },
    {
     "data": {
      "image/png": "[encoded data removed]",
      "text/plain": [
       "<Figure size 432x288 with 1 Axes>"
      ]
     },
     "metadata": {
      "needs_background": "light"
     },
     "output_type": "display_data"
    }
   ],
   "source": [
    "plt.scatter(df['compstu'],df['testscr'])\n",
    "plt.title(\"Scatterplot1: testscr and compstu\")\n",
    "plt.xlabel('compstu')\n",
    "plt.ylabel('testscr')"
   ]
  },
  {
   "cell_type": "code",
   "execution_count": 8,
   "metadata": {
    "colab": {
     "base_uri": "https://localhost:8080/",
     "height": 296
    },
    "id": "9YS3qxBLfmDB",
    "outputId": "e1a9a62e-a748-4a83-f246-0163a6bd96c5"
   },
   "outputs": [
    {
     "data": {
      "text/plain": [
       "Text(0, 0.5, 'testscr')"
      ]
     },
     "execution_count": 8,
     "metadata": {},
     "output_type": "execute_result"
    },
    {
     "data": {
      "image/png": "[encoded data removed]",
      "text/plain": [
       "<Figure size 432x288 with 1 Axes>"
      ]
     },
     "metadata": {
      "needs_background": "light"
     },
     "output_type": "display_data"
    }
   ],
   "source": [
    "plt.scatter(df['avginc'],df['testscr'])\n",
    "plt.title(\"Scatterplot2: testscr and avginc\")\n",
    "plt.xlabel('avginc')\n",
    "plt.ylabel('testscr')"
   ]
  },
  {
   "cell_type": "code",
   "execution_count": 9,
   "metadata": {
    "colab": {
     "base_uri": "https://localhost:8080/",
     "height": 312
    },
    "id": "6aRzc9rVfspk",
    "outputId": "539386a9-85e6-4931-8e72-b33c9db111d0"
   },
   "outputs": [
    {
     "data": {
      "text/plain": [
       "Text(0, 0.5, 'testscr')"
      ]
     },
     "execution_count": 9,
     "metadata": {},
     "output_type": "execute_result"
    },
    {
     "data": {
      "image/png": "[encoded data removed]",
      "text/plain": [
       "<Figure size 432x288 with 1 Axes>"
      ]
     },
     "metadata": {
      "needs_background": "light"
     },
     "output_type": "display_data"
    }
   ],
   "source": [
    "plt.scatter(df['expnstu'],df['testscr'])\n",
    "plt.title(\"Scatterplot3: testscr and expnstu\")\n",
    "plt.xlabel('expnstu')\n",
    "plt.ylabel('testscr')"
   ]
  },
  {
   "cell_type": "markdown",
   "metadata": {
    "id": "MMbuekoynqc2"
   },
   "source": [
    "## 1.3 Split data in training and test set. \n",
    "\n",
    "## Build models that evaluate the relationship between all available X variables in the California test dataset and the target variable. Evaluate KNN for regression, Linear Regression (OLS), Ridge, and Lasso using cross-validation with the default parameters. \n",
    "\n",
    "## Does scaling the data with the StandardScaler help?"
   ]
  },
  {
   "cell_type": "markdown",
   "metadata": {
    "id": "2Azj0DCHpN5Y"
   },
   "source": [
    "First, I will split the data into X and y"
   ]
  },
  {
   "cell_type": "code",
   "execution_count": 32,
   "metadata": {
    "colab": {
     "base_uri": "https://localhost:8080/",
     "height": 304
    },
    "id": "1e_HO8xmnrc4",
    "outputId": "030d9748-32ef-4710-e309-aba5da079ca2"
   },
   "outputs": [
    {
     "name": "stdout",
     "output_type": "stream",
     "text": [
      "0    690.799988\n",
      "1    661.200012\n",
      "2    643.599976\n",
      "3    647.700012\n",
      "4    640.849976\n",
      "Name: testscr, dtype: float64\n"
     ]
    },
    {
     "data": {
      "text/html": [
       "<div>\n",
       "<style scoped>\n",
       "    .dataframe tbody tr th:only-of-type {\n",
       "        vertical-align: middle;\n",
       "    }\n",
       "\n",
       "    .dataframe tbody tr th {\n",
       "        vertical-align: top;\n",
       "    }\n",
       "\n",
       "    .dataframe thead th {\n",
       "        text-align: right;\n",
       "    }\n",
       "</style>\n",
       "<table border=\"1\" class=\"dataframe\">\n",
       "  <thead>\n",
       "    <tr style=\"text-align: right;\">\n",
       "      <th></th>\n",
       "      <th>enrltot</th>\n",
       "      <th>teachers</th>\n",
       "      <th>calwpct</th>\n",
       "      <th>mealpct</th>\n",
       "      <th>computer</th>\n",
       "      <th>compstu</th>\n",
       "      <th>expnstu</th>\n",
       "      <th>str</th>\n",
       "      <th>avginc</th>\n",
       "      <th>elpct</th>\n",
       "    </tr>\n",
       "  </thead>\n",
       "  <tbody>\n",
       "    <tr>\n",
       "      <th>0</th>\n",
       "      <td>195</td>\n",
       "      <td>10.900000</td>\n",
       "      <td>0.510200</td>\n",
       "      <td>2.040800</td>\n",
       "      <td>67</td>\n",
       "      <td>0.343590</td>\n",
       "      <td>6384.911133</td>\n",
       "      <td>17.889910</td>\n",
       "      <td>22.690001</td>\n",
       "      <td>0.000000</td>\n",
       "    </tr>\n",
       "    <tr>\n",
       "      <th>1</th>\n",
       "      <td>240</td>\n",
       "      <td>11.150000</td>\n",
       "      <td>15.416700</td>\n",
       "      <td>47.916698</td>\n",
       "      <td>101</td>\n",
       "      <td>0.420833</td>\n",
       "      <td>5099.380859</td>\n",
       "      <td>21.524664</td>\n",
       "      <td>9.824000</td>\n",
       "      <td>4.583333</td>\n",
       "    </tr>\n",
       "    <tr>\n",
       "      <th>2</th>\n",
       "      <td>1550</td>\n",
       "      <td>82.900002</td>\n",
       "      <td>55.032299</td>\n",
       "      <td>76.322601</td>\n",
       "      <td>169</td>\n",
       "      <td>0.109032</td>\n",
       "      <td>5501.954590</td>\n",
       "      <td>18.697226</td>\n",
       "      <td>8.978000</td>\n",
       "      <td>30.000002</td>\n",
       "    </tr>\n",
       "    <tr>\n",
       "      <th>3</th>\n",
       "      <td>243</td>\n",
       "      <td>14.000000</td>\n",
       "      <td>36.475399</td>\n",
       "      <td>77.049202</td>\n",
       "      <td>85</td>\n",
       "      <td>0.349794</td>\n",
       "      <td>7101.831055</td>\n",
       "      <td>17.357143</td>\n",
       "      <td>8.978000</td>\n",
       "      <td>0.000000</td>\n",
       "    </tr>\n",
       "    <tr>\n",
       "      <th>4</th>\n",
       "      <td>1335</td>\n",
       "      <td>71.500000</td>\n",
       "      <td>33.108601</td>\n",
       "      <td>78.427002</td>\n",
       "      <td>171</td>\n",
       "      <td>0.128090</td>\n",
       "      <td>5235.987793</td>\n",
       "      <td>18.671329</td>\n",
       "      <td>9.080333</td>\n",
       "      <td>13.857677</td>\n",
       "    </tr>\n",
       "  </tbody>\n",
       "</table>\n",
       "</div>"
      ],
      "text/plain": [
       "   enrltot   teachers    calwpct    mealpct  computer   compstu      expnstu  \\\n",
       "0      195  10.900000   0.510200   2.040800        67  0.343590  6384.911133   \n",
       "1      240  11.150000  15.416700  47.916698       101  0.420833  5099.380859   \n",
       "2     1550  82.900002  55.032299  76.322601       169  0.109032  5501.954590   \n",
       "3      243  14.000000  36.475399  77.049202        85  0.349794  7101.831055   \n",
       "4     1335  71.500000  33.108601  78.427002       171  0.128090  5235.987793   \n",
       "\n",
       "         str     avginc      elpct  \n",
       "0  17.889910  22.690001   0.000000  \n",
       "1  21.524664   9.824000   4.583333  \n",
       "2  18.697226   8.978000  30.000002  \n",
       "3  17.357143   8.978000   0.000000  \n",
       "4  18.671329   9.080333  13.857677  "
      ]
     },
     "execution_count": 32,
     "metadata": {},
     "output_type": "execute_result"
    }
   ],
   "source": [
    "from sklearn.linear_model import LinearRegression\n",
    "from sklearn.model_selection import train_test_split\n",
    "from sklearn.preprocessing import StandardScaler\n",
    "from sklearn import preprocessing\n",
    "\n",
    "df = df.iloc[:, 5:16] #delete the last two columns\n",
    "\n",
    "y = df['testscr']\n",
    "X = df.loc[:, df.columns != 'testscr'] #Choose all the raws and all the columns except \"InMichielIn\"\n",
    "\n",
    "print(y[0:5])\n",
    "X.head()\n"
   ]
  },
  {
   "cell_type": "code",
   "execution_count": 44,
   "metadata": {
    "colab": {
     "base_uri": "https://localhost:8080/",
     "height": 197
    },
    "id": "fzvCOf-Fol8T",
    "outputId": "49b2ca86-0f40-48fe-f99d-66956657b358"
   },
   "outputs": [
    {
     "data": {
      "text/html": [
       "<div>\n",
       "<style scoped>\n",
       "    .dataframe tbody tr th:only-of-type {\n",
       "        vertical-align: middle;\n",
       "    }\n",
       "\n",
       "    .dataframe tbody tr th {\n",
       "        vertical-align: top;\n",
       "    }\n",
       "\n",
       "    .dataframe thead th {\n",
       "        text-align: right;\n",
       "    }\n",
       "</style>\n",
       "<table border=\"1\" class=\"dataframe\">\n",
       "  <thead>\n",
       "    <tr style=\"text-align: right;\">\n",
       "      <th></th>\n",
       "      <th>enrltot</th>\n",
       "      <th>teachers</th>\n",
       "      <th>calwpct</th>\n",
       "      <th>mealpct</th>\n",
       "      <th>computer</th>\n",
       "      <th>compstu</th>\n",
       "      <th>expnstu</th>\n",
       "      <th>str</th>\n",
       "      <th>avginc</th>\n",
       "      <th>elpct</th>\n",
       "    </tr>\n",
       "  </thead>\n",
       "  <tbody>\n",
       "    <tr>\n",
       "      <th>315</th>\n",
       "      <td>160</td>\n",
       "      <td>10.880000</td>\n",
       "      <td>13.375800</td>\n",
       "      <td>53.503201</td>\n",
       "      <td>38</td>\n",
       "      <td>0.237500</td>\n",
       "      <td>6870.346191</td>\n",
       "      <td>14.705882</td>\n",
       "      <td>11.826000</td>\n",
       "      <td>2.500000</td>\n",
       "    </tr>\n",
       "    <tr>\n",
       "      <th>13</th>\n",
       "      <td>487</td>\n",
       "      <td>24.340000</td>\n",
       "      <td>24.609400</td>\n",
       "      <td>77.148399</td>\n",
       "      <td>0</td>\n",
       "      <td>0.000000</td>\n",
       "      <td>4818.612793</td>\n",
       "      <td>20.008217</td>\n",
       "      <td>8.279000</td>\n",
       "      <td>20.533880</td>\n",
       "    </tr>\n",
       "    <tr>\n",
       "      <th>354</th>\n",
       "      <td>198</td>\n",
       "      <td>9.000000</td>\n",
       "      <td>2.451000</td>\n",
       "      <td>12.745100</td>\n",
       "      <td>24</td>\n",
       "      <td>0.121212</td>\n",
       "      <td>4593.196777</td>\n",
       "      <td>22.000000</td>\n",
       "      <td>12.640000</td>\n",
       "      <td>0.000000</td>\n",
       "    </tr>\n",
       "    <tr>\n",
       "      <th>61</th>\n",
       "      <td>5138</td>\n",
       "      <td>290.774994</td>\n",
       "      <td>58.752201</td>\n",
       "      <td>84.999001</td>\n",
       "      <td>560</td>\n",
       "      <td>0.108992</td>\n",
       "      <td>5606.781738</td>\n",
       "      <td>17.670021</td>\n",
       "      <td>10.905643</td>\n",
       "      <td>32.989491</td>\n",
       "    </tr>\n",
       "    <tr>\n",
       "      <th>171</th>\n",
       "      <td>3981</td>\n",
       "      <td>210.000000</td>\n",
       "      <td>41.773399</td>\n",
       "      <td>51.770901</td>\n",
       "      <td>606</td>\n",
       "      <td>0.152223</td>\n",
       "      <td>5358.517090</td>\n",
       "      <td>18.957144</td>\n",
       "      <td>12.749143</td>\n",
       "      <td>8.842000</td>\n",
       "    </tr>\n",
       "  </tbody>\n",
       "</table>\n",
       "</div>"
      ],
      "text/plain": [
       "     enrltot    teachers    calwpct    mealpct  computer   compstu  \\\n",
       "315      160   10.880000  13.375800  53.503201        38  0.237500   \n",
       "13       487   24.340000  24.609400  77.148399         0  0.000000   \n",
       "354      198    9.000000   2.451000  12.745100        24  0.121212   \n",
       "61      5138  290.774994  58.752201  84.999001       560  0.108992   \n",
       "171     3981  210.000000  41.773399  51.770901       606  0.152223   \n",
       "\n",
       "         expnstu        str     avginc      elpct  \n",
       "315  6870.346191  14.705882  11.826000   2.500000  \n",
       "13   4818.612793  20.008217   8.279000  20.533880  \n",
       "354  4593.196777  22.000000  12.640000   0.000000  \n",
       "61   5606.781738  17.670021  10.905643  32.989491  \n",
       "171  5358.517090  18.957144  12.749143   8.842000  "
      ]
     },
     "execution_count": 44,
     "metadata": {},
     "output_type": "execute_result"
    }
   ],
   "source": [
    "X_train, X_test, y_train, y_test = train_test_split(X, y,random_state = 1)\n",
    "\n",
    "X_train.head()"
   ]
  },
  {
   "cell_type": "markdown",
   "metadata": {
    "id": "7DD37s4spVIl"
   },
   "source": [
    "Then, I will scale my data using standard scaler for future use"
   ]
  },
  {
   "cell_type": "code",
   "execution_count": 34,
   "metadata": {
    "id": "2nN1ZNa8pdBw"
   },
   "outputs": [],
   "source": [
    "from sklearn.preprocessing import StandardScaler\n",
    "from sklearn import preprocessing\n",
    "\n",
    "scaler = preprocessing.StandardScaler() # set up the function\n",
    "\n",
    "# scale the train_set\n",
    "scaler.fit(X_train)\n",
    "X_train_scaled = scaler.transform(X_train)\n",
    "\n",
    "# scale the test_set\n",
    "X_test_scaled = scaler.transform(X_test)"
   ]
  },
  {
   "cell_type": "markdown",
   "metadata": {
    "id": "GcnZPS2lQmp8"
   },
   "source": [
    "## Train KNN Regression using cross-validation with the default parameters"
   ]
  },
  {
   "cell_type": "code",
   "execution_count": 35,
   "metadata": {
    "colab": {
     "base_uri": "https://localhost:8080/",
     "height": 52
    },
    "id": "3SUxpGBPZlNI",
    "outputId": "aa884005-9e5b-4fc0-a5ed-f703a0c8c9c1"
   },
   "outputs": [
    {
     "name": "stdout",
     "output_type": "stream",
     "text": [
      "Cross Validation score for X without sclaer: -0.024944\n",
      "Test score without sclaer: 0.077402\n"
     ]
    }
   ],
   "source": [
    "from sklearn.model_selection import GridSearchCV\n",
    "from sklearn.pipeline import make_pipeline\n",
    "from sklearn.neighbors import KNeighborsRegressor\n",
    "from sklearn import preprocessing\n",
    "from sklearn.model_selection import cross_val_score\n",
    "\n",
    "# Create a KNN Regessor\n",
    "knn = KNeighborsRegressor()\n",
    "\n",
    "knn.fit(X_train, y_train)\n",
    "print(\"Cross Validation score for X without sclaer: {:.6f}\".format(np.mean(cross_val_score(\n",
    "    KNeighborsRegressor(), X_train, y_train, cv=5))))\n",
    "print(\"Test score without sclaer: {:.6f}\".format(knn.score(X_test, y_test)))\n"
   ]
  },
  {
   "cell_type": "markdown",
   "metadata": {
    "id": "1P3YKMuCfILk"
   },
   "source": [
    "## Train with KNN using Cross-Validation with standard scaler"
   ]
  },
  {
   "cell_type": "code",
   "execution_count": 42,
   "metadata": {
    "colab": {
     "base_uri": "https://localhost:8080/",
     "height": 52
    },
    "id": "GXlNlrYpaSi7",
    "outputId": "59644ff6-dcd7-46ec-f07a-93c9465285c3"
   },
   "outputs": [
    {
     "name": "stdout",
     "output_type": "stream",
     "text": [
      "Cross Validation score for X with sclaer: -0.253873\n",
      "Test score with sclaer: -0.235612\n"
     ]
    }
   ],
   "source": [
    "# Create a KNN Regessor\n",
    "knn = KNeighborsRegressor()\n",
    "\n",
    "knn.fit(X_train_scaled, y_train)\n",
    "\n",
    "print(\"Cross Validation score for X with sclaer: {:.6f}\".format(np.mean(cross_val_score(\n",
    "    KNeighborsRegressor(), X_train_scaled, y_train, cv=5))))\n",
    "print(\"Test score with sclaer: {:.6f}\".format(knn.score(X_test_scaled, y_test)))"
   ]
  },
  {
   "cell_type": "markdown",
   "metadata": {
    "id": "flowmMn4vXQC"
   },
   "source": [
    "Yes: I can see that using StandardScaler really helps the KNN score a lot."
   ]
  },
  {
   "cell_type": "markdown",
   "metadata": {
    "id": "Bs0ZxxOedfm_"
   },
   "source": [
    "## Train with Linear Regression (OLS) using Cross-Validation with default parameters"
   ]
  },
  {
   "cell_type": "code",
   "execution_count": 52,
   "metadata": {
    "colab": {
     "base_uri": "https://localhost:8080/",
     "height": 87
    },
    "id": "nLoVIWtTdxHY",
    "outputId": "c6102dad-e570-4553-ff9f-2ca949ce1f61"
   },
   "outputs": [
    {
     "name": "stdout",
     "output_type": "stream",
     "text": [
      "lr.coef_: [-1.21788340e-03  2.36182090e-02 -6.84748453e-02 -4.12750709e-01\n",
      "  2.65072603e-04  1.42812681e+01  2.13496335e-03 -1.06260889e-01\n",
      "  5.40880275e-01 -1.67101200e-01]\n",
      "lr.intercept_: 656.4016910335039\n"
     ]
    }
   ],
   "source": [
    "from sklearn.linear_model import LinearRegression\n",
    "\n",
    "\n",
    "\n",
    "X_train, X_test, y_train, y_test = train_test_split(X, y)\n",
    "lr = LinearRegression().fit(X_train, y_train)\n",
    "\n",
    "#The “slope” parameters (w), also called weights or coefficients, are stored in the coef_\n",
    "#..attribute, while the offset or intercept (b) is stored in the intercept_ attribute:\n",
    "\n",
    "print(\"lr.coef_: {}\".format(lr.coef_))\n",
    "print(\"lr.intercept_: {}\".format(lr.intercept_))"
   ]
  },
  {
   "cell_type": "code",
   "execution_count": 53,
   "metadata": {
    "colab": {
     "base_uri": "https://localhost:8080/",
     "height": 52
    },
    "id": "zidu8U2ed6xP",
    "outputId": "627cde68-82a9-41a4-ddd1-f299d626a2d6"
   },
   "outputs": [
    {
     "name": "stdout",
     "output_type": "stream",
     "text": [
      "Cross Validation score for X without sclaer: 0.79\n",
      "Test score without sclaer: 0.80\n"
     ]
    }
   ],
   "source": [
    "\n",
    "print(\"Cross Validation score for X without sclaer: {:.2f}\".format(np.mean(cross_val_score(\n",
    "    LinearRegression(), X_train, y_train, cv=5))))\n",
    "print(\"Test score without sclaer: {:.2f}\".format(lr.score(X_test, y_test)))\n"
   ]
  },
  {
   "cell_type": "code",
   "execution_count": 55,
   "metadata": {
    "colab": {
     "base_uri": "https://localhost:8080/",
     "height": 52
    },
    "id": "DRaPS6DOv1qp",
    "outputId": "e5f8197c-73ed-4ab9-f8b5-d253ec81b12f"
   },
   "outputs": [
    {
     "name": "stdout",
     "output_type": "stream",
     "text": [
      "Cross Validation score for X with sclaer: 0.79\n",
      "Test score with sclaer: 0.80\n"
     ]
    }
   ],
   "source": [
    "lr = LinearRegression()\n",
    "lr.fit(X_train_scaled, y_train)\n",
    "\n",
    "scaler = preprocessing.StandardScaler() # set up the function\n",
    "\n",
    "# scale the train_set\n",
    "scaler.fit(X_train)\n",
    "X_train_scaled = scaler.transform(X_train)\n",
    "\n",
    "# scale the test_set\n",
    "X_test_scaled = scaler.transform(X_test)\n",
    "\n",
    "print(\"Cross Validation score for X with sclaer: {:.2f}\".format(np.mean(cross_val_score(\n",
    "    LinearRegression(), X_train_scaled, y_train, cv=5))))\n",
    "print(\"Test score with sclaer: {:.2f}\".format(lr.score(X_test_scaled, y_test)))"
   ]
  },
  {
   "cell_type": "markdown",
   "metadata": {
    "id": "d13VgL6Wwrf2"
   },
   "source": [
    "No, it is obvious that standard scaler does not help with Linear regression at all becuase it is linear."
   ]
  },
  {
   "cell_type": "markdown",
   "metadata": {
    "id": "ZQ6qx8yj0Nal"
   },
   "source": [
    "## Train with Ridge using cross-validation with default parameters."
   ]
  },
  {
   "cell_type": "markdown",
   "metadata": {
    "id": "CAF4yDrmdGlZ"
   },
   "source": [
    "Instead of arbitrarily choosing alpha , it would be better to use cross-validation to choose the tuning parameter alpha. We can do this using the cross-validated ridge regression function, RidgeCV(). By default, the function performs generalized cross-validation (an efficient form of LOOCV), though this can be changed using the argument cv."
   ]
  },
  {
   "cell_type": "code",
   "execution_count": 18,
   "metadata": {
    "colab": {
     "base_uri": "https://localhost:8080/",
     "height": 87
    },
    "id": "dfOEfnMU0u7X",
    "outputId": "135c842b-8087-46b2-bb92-adf02d24366d"
   },
   "outputs": [
    {
     "name": "stdout",
     "output_type": "stream",
     "text": [
      "Cross Validation score for X without sclaer: 0.74\n",
      "Test score without sclaer: 0.89\n",
      "Number of features used: 10\n",
      "Number of features used: 10\n"
     ]
    }
   ],
   "source": [
    "from sklearn.linear_model import Ridge\n",
    "\n",
    "ridge = Ridge()\n",
    "ridge.fit(X_train, y_train)\n",
    "\n",
    "print(\"Cross Validation score for X without sclaer: {:.2f}\".format(np.mean(cross_val_score(\n",
    "    Ridge(), X_train, y_train, cv=5))))\n",
    "print(\"Test score without sclaer: {:.2f}\".format(ridge.score(X_test, y_test)))\n",
    "\n",
    "print(\"Number of features used: {}\".format(np.sum(ridge.coef_ != 0)))\n",
    "print(\"Number of features used: {}\".format(np.sum(ridge.coef_ != 0)))"
   ]
  },
  {
   "cell_type": "markdown",
   "metadata": {
    "id": "f99z2hsxear3"
   },
   "source": [
    "## Train with Ridge using cross-validation using scaler with default parameters."
   ]
  },
  {
   "cell_type": "code",
   "execution_count": 19,
   "metadata": {
    "colab": {
     "base_uri": "https://localhost:8080/",
     "height": 52
    },
    "id": "Ozv4jbqaeXdu",
    "outputId": "9cac16f6-058e-4115-f78b-0194b94a9dcf"
   },
   "outputs": [
    {
     "name": "stdout",
     "output_type": "stream",
     "text": [
      "Cross Validation score for X with sclaer: -0.11\n",
      "Test score with sclaer: 0.01\n"
     ]
    }
   ],
   "source": [
    "ridge = Ridge()\n",
    "ridge.fit(X_train_scaled, y_train)\n",
    "\n",
    "print(\"Cross Validation score for X with sclaer: {:.2f}\".format(np.mean(cross_val_score(\n",
    "    Ridge(), X_train_scaled, y_train, cv=5))))\n",
    "print(\"Test score with sclaer: {:.2f}\".format(ridge.score(X_test_scaled, y_test)))\n"
   ]
  },
  {
   "cell_type": "markdown",
   "metadata": {
    "id": "KItC5S_j47pO"
   },
   "source": [
    "## Train with lasso using cross-validation with default parameters."
   ]
  },
  {
   "cell_type": "code",
   "execution_count": 20,
   "metadata": {
    "colab": {
     "base_uri": "https://localhost:8080/",
     "height": 87
    },
    "id": "2UdShU6I5CT0",
    "outputId": "913a0e87-e1c2-405e-d550-46aba4d6f3b7"
   },
   "outputs": [
    {
     "name": "stdout",
     "output_type": "stream",
     "text": [
      "Cross Validation score for X without sclaer: 0.78\n",
      "Test score without sclaer: 0.89\n",
      "Number of features used: 7\n",
      "Number of features used: 7\n"
     ]
    }
   ],
   "source": [
    "from sklearn.linear_model import LassoCV\n",
    "lassocv = LassoCV(alphas = None, cv = 10, max_iter = 100000, normalize = True)\n",
    "lassocv.fit(X_train, y_train)\n",
    "print(\"Cross Validation score for X without sclaer: {:.2f}\".format(lassocv.score(X_train, y_train)))\n",
    "print(\"Test score without sclaer: {:.2f}\".format(lassocv.score(X_test, y_test)))\n",
    "print(\"Number of features used: {}\".format(np.sum(lassocv.coef_ != 0)))\n",
    "print(\"Number of features used: {}\".format(np.sum(lassocv.coef_ != 0)))\n",
    "\n",
    "#print(\"lasso.coef_: {}\".format(lassocv.coef_))"
   ]
  },
  {
   "cell_type": "markdown",
   "metadata": {
    "id": "GNDbyjhHgIYP"
   },
   "source": [
    "## Train with lasso using cross-validation using scaler default parameters."
   ]
  },
  {
   "cell_type": "code",
   "execution_count": 21,
   "metadata": {
    "colab": {
     "base_uri": "https://localhost:8080/",
     "height": 87
    },
    "id": "UAHyUOxGgLkJ",
    "outputId": "2cf47a02-4498-4229-dc6b-424e19034eb9"
   },
   "outputs": [
    {
     "name": "stdout",
     "output_type": "stream",
     "text": [
      "Cross Validation score for X with sclaer: 0.77\n",
      "Test score without sclaer: 0.77\n",
      "Number of features used: 7\n",
      "Number of features used: 7\n"
     ]
    }
   ],
   "source": [
    "from sklearn.linear_model import LassoCV\n",
    "\n",
    "\n",
    "X_train, X_test, y_train, y_test = train_test_split(X, y)\n",
    "scaler = preprocessing.StandardScaler()\n",
    "scaler.fit(X_train)\n",
    "X_train_scaled = scaler.transform(X_train)\n",
    "lasso_ss = LassoCV().fit(X_train_scaled, y_train)\n",
    "X_test_scaled = scaler.transform(X_test)\n",
    "lasso_ss.score(X_test_scaled, y_test)\n",
    "\n",
    "\n",
    "print(\"Cross Validation score for X with sclaer: {:.2f}\".format(lasso_ss.score(X_test_scaled, y_test)))\n",
    "print(\"Test score without sclaer: {:.2f}\".format(lasso_ss.score(X_test_scaled, y_test)))\n",
    "print(\"Number of features used: {}\".format(np.sum(lasso_ss.coef_ != 0)))\n",
    "print(\"Number of features used: {}\".format(np.sum(lasso_ss.coef_ != 0)))\n",
    "\n",
    "# print(\"lasso.coef_: {}\".format(lasso_ss.coef_))"
   ]
  },
  {
   "cell_type": "markdown",
   "metadata": {
    "id": "-YRceZHqk3UN"
   },
   "source": [
    "## 1.4 Tune the parameters of the models where possible using GridSearchCV. Do the results improve?"
   ]
  },
  {
   "cell_type": "markdown",
   "metadata": {
    "id": "zrw4Z6-Alcj1"
   },
   "source": [
    "##GridSearchCV with KNN"
   ]
  },
  {
   "cell_type": "code",
   "execution_count": 22,
   "metadata": {
    "colab": {
     "base_uri": "https://localhost:8080/",
     "height": 52
    },
    "id": "FjCODAhQk7Dv",
    "outputId": "6e645b1c-548c-401a-c7f1-eca54ce582dc"
   },
   "outputs": [
    {
     "name": "stdout",
     "output_type": "stream",
     "text": [
      "{'kneighborsregressor__n_neighbors': 5}\n",
      "The score for GrideSeachCV with KNN is:  0.7389802586502423\n"
     ]
    }
   ],
   "source": [
    "from sklearn.model_selection import GridSearchCV\n",
    "from sklearn.pipeline import make_pipeline\n",
    "from sklearn.neighbors import KNeighborsRegressor\n",
    "from sklearn import preprocessing\n",
    "from sklearn.preprocessing import StandardScaler\n",
    "from sklearn.pipeline import make_pipeline\n",
    "from sklearn.neighbors import KNeighborsRegressor\n",
    "\n",
    "knn_pipe = make_pipeline(StandardScaler(), KNeighborsRegressor())\n",
    "\n",
    "#refer to step name with two underscores before argument name when...\n",
    "#you build a parameter grid\n",
    "\n",
    "param_grid = {'kneighborsregressor__n_neighbors': range(1, 10)}\n",
    "grid = GridSearchCV(knn_pipe, param_grid, cv=5)\n",
    "grid.fit(X_train_scaled, y_train)\n",
    "print(grid.best_params_)\n",
    "print('The score for GrideSeachCV with KNN is: ',grid.score(X_test_scaled, y_test))"
   ]
  },
  {
   "cell_type": "markdown",
   "metadata": {
    "id": "j2AoA0HdMKyb"
   },
   "source": [
    "Compared to 0.7744 in KNN score with sclaer, GridSearch does not improve the result"
   ]
  },
  {
   "cell_type": "markdown",
   "metadata": {
    "id": "Lyr7eMRvnJSw"
   },
   "source": [
    "## GridSearchCV with Ridge"
   ]
  },
  {
   "cell_type": "code",
   "execution_count": 23,
   "metadata": {
    "colab": {
     "base_uri": "https://localhost:8080/",
     "height": 69
    },
    "id": "MVFRiEVvnIaH",
    "outputId": "1b9aeaf4-dd0a-430b-a44f-7741071e6c4e"
   },
   "outputs": [
    {
     "name": "stdout",
     "output_type": "stream",
     "text": [
      "best mean cross-validation score: 0.793\n",
      "best parameters: {'alpha': 2.1544346900318843}\n",
      "test-set score: 0.770\n"
     ]
    }
   ],
   "source": [
    "from sklearn.model_selection import GridSearchCV\n",
    "from sklearn.pipeline import make_pipeline\n",
    "from sklearn.linear_model import Ridge\n",
    "from sklearn import preprocessing\n",
    "from sklearn.preprocessing import StandardScaler\n",
    "\n",
    "parameters = {\"alpha\": np.logspace(-3,2,10)}\n",
    "\n",
    "grid_ridge = GridSearchCV(Ridge(),parameters, cv=5)\n",
    "grid_ridge.fit(X_train_scaled, y_train) # np.logspace(-3,1,2,50)\n",
    "\n",
    "print(\"best mean cross-validation score: {:.3f}\".format(grid_ridge.best_score_))\n",
    "print(\"best parameters: {}\".format(grid_ridge.best_params_))\n",
    "print(\"test-set score: {:.3f}\".format(grid_ridge.score(X_test_scaled, y_test)))"
   ]
  },
  {
   "cell_type": "markdown",
   "metadata": {
    "id": "fW3yQd2PMuI8"
   },
   "source": [
    "Compared to the score by Ridge in 1.3 with sclaer: 0.80, GridSearch does not improve the score"
   ]
  },
  {
   "cell_type": "markdown",
   "metadata": {
    "id": "qAwaXlx-plXL"
   },
   "source": [
    "## GridSearchCV with Lasso"
   ]
  },
  {
   "cell_type": "code",
   "execution_count": 24,
   "metadata": {
    "colab": {
     "base_uri": "https://localhost:8080/",
     "height": 121
    },
    "id": "tTZdQp7Zpk1u",
    "outputId": "9dae59b1-662b-40e7-c17e-780170812e94"
   },
   "outputs": [
    {
     "name": "stdout",
     "output_type": "stream",
     "text": [
      "Fitting 5 folds for each of 10 candidates, totalling 50 fits\n"
     ]
    },
    {
     "name": "stderr",
     "output_type": "stream",
     "text": [
      "[Parallel(n_jobs=-1)]: Using backend LokyBackend with 8 concurrent workers.\n"
     ]
    },
    {
     "name": "stdout",
     "output_type": "stream",
     "text": [
      "best mean cross-validation score: 0.796\n",
      "best parameters: {'alpha': 0.12915496650148828}\n",
      "test-set score: 0.771\n"
     ]
    },
    {
     "name": "stderr",
     "output_type": "stream",
     "text": [
      "[Parallel(n_jobs=-1)]: Done  34 tasks      | elapsed:    2.0s\n",
      "[Parallel(n_jobs=-1)]: Done  50 out of  50 | elapsed:    2.0s finished\n"
     ]
    }
   ],
   "source": [
    "from sklearn.model_selection import GridSearchCV\n",
    "from sklearn.pipeline import make_pipeline\n",
    "from sklearn.linear_model import Lasso\n",
    "from sklearn import preprocessing\n",
    "from sklearn.preprocessing import StandardScaler\n",
    "\n",
    "#refer to step name with two underscores before argument name when...\n",
    "#you build a parameter grid\n",
    "parameters = {\"alpha\": np.logspace(-8,0,10)}\n",
    "\n",
    "grid_lasso = GridSearchCV(Lasso(),parameters, cv=5, scoring=\"r2\",verbose=1,n_jobs=-1)\n",
    "grid_lasso.fit(X_train_scaled, y_train)\n",
    "\n",
    "print(\"best mean cross-validation score: {:.3f}\".format(grid_lasso.best_score_))\n",
    "print(\"best parameters: {}\".format(grid_lasso.best_params_))\n",
    "print(\"test-set score: {:.3f}\".format(grid_lasso.score(X_test_scaled, y_test)))"
   ]
  },
  {
   "cell_type": "markdown",
   "metadata": {
    "id": "mmMy5d0aNC48"
   },
   "source": [
    "Compared to the score by Lasso in 1.3 with sclaer: 0.78, GridSearch does not improve the score"
   ]
  },
  {
   "cell_type": "markdown",
   "metadata": {
    "id": "2SU48WQCqCQI"
   },
   "source": [
    "## 1.5 Compare the coefficients of your two best linear models (not knn), do they agree on which features are important?"
   ]
  },
  {
   "cell_type": "code",
   "execution_count": 25,
   "metadata": {
    "colab": {
     "base_uri": "https://localhost:8080/",
     "height": 86
    },
    "id": "dobaVggUNPGs",
    "outputId": "6b2d6ebe-1cc4-4cf5-f7fb-0367ec1d7df5"
   },
   "outputs": [
    {
     "name": "stdout",
     "output_type": "stream",
     "text": [
      "coef_ridge:  [ -0.31371041   0.36629142  -0.26332024 -10.69014884  -0.24465974\n",
      "   0.78148751   0.42776611  -0.58708236   4.82833041  -2.80547151]\n",
      "coef_lasso:  [ -0.          -0.           0.         -11.44585568  -0.13706847\n",
      "   0.72534602   0.37033376  -0.55513226   4.57914779  -2.4560406 ]\n"
     ]
    }
   ],
   "source": [
    "best_ridge = Ridge(alpha=7.742).fit(X_train_scaled, y_train)\n",
    "coef_ridge = best_ridge.coef_\n",
    "print(\"coef_ridge: \",coef_ridge)\n",
    "\n",
    "best_lasso = Lasso(alpha=0.129154).fit(X_train_scaled, y_train)\n",
    "coef_lasso = best_lasso.coef_\n",
    "print(\"coef_lasso: \",coef_lasso)\n"
   ]
  },
  {
   "cell_type": "markdown",
   "metadata": {
    "id": "ZA57PwidN3_G"
   },
   "source": [
    "From the coefficient above, we can see that the Ridge thinks the most important one is the 9th; and the Lasso also think the most important one is the 9th.\n",
    "\n",
    "## Therefore, they Ridge and Lasso agree that avginc is the most important feature\n",
    "\n",
    "We can see that both Ridge and Lasso value the 7th coefficient, which is expnstu; while Ridge values the 6th (compstu), Lasso does not."
   ]
  },
  {
   "cell_type": "markdown",
   "metadata": {
    "id": "KRD8zI_sP_Sn"
   },
   "source": [
    "## 1.6 Discuss which final model you would choose to predict new data\n"
   ]
  },
  {
   "cell_type": "markdown",
   "metadata": {
    "id": "_GqnJwSBQCHz"
   },
   "source": [
    "For me, I would choose Lasso. \n",
    "\n",
    "\n",
    "The reason for me to chooseI Lasso is that it clearly shows which features are important and which are not (as showed in 1.,5). Also it has comparetively high testing scores over other three models.\n"
   ]
  }
 ],
 "metadata": {
  "colab": {
   "collapsed_sections": [],
   "name": "QMSS ML HW#2",
   "provenance": []
  },
  "kernelspec": {
   "display_name": "Python 3",
   "language": "python",
   "name": "python3"
  },
  "language_info": {
   "codemirror_mode": {
    "name": "ipython",
    "version": 3
   },
   "file_extension": ".py",
   "mimetype": "text/x-python",
   "name": "python",
   "nbconvert_exporter": "python",
   "pygments_lexer": "ipython3",
   "version": "3.8.3"
  }
 },
 "nbformat": 4,
 "nbformat_minor": 1
}
