{
 "cells": [
  {
   "cell_type": "markdown",
   "metadata": {
    "id": "EuN_q-FXZTAo"
   },
   "source": [
    "# Mahcine Learning HW #2 Question 2\n",
    "\n",
    "## Zehui Wang ##\n",
    "\n"
   ]
  },
  {
   "cell_type": "markdown",
   "metadata": {
    "id": "7JzWSKV0ZgYo"
   },
   "source": [
    "## Question 2. Classification on red and white wine characteristics:\n",
    "\n",
    "First, import the red and the white wine csv files into separate pandas dataframes from the following website:\n",
    "\n",
    "https://archive.ics.uci.edu/ml/machine-learning-databases/wine-quality/\n",
    "\n",
    "(Note: you need to adjust the argument for read_csv() from sep=',' to sep=';')\n",
    "\n",
    "Add a new column to each data frame called \"winetype\".  For the white wine dataset label the values in this column with a 0, indicating white wine.  For the red wine dataset, label values with a 1, indicating red wine.  Combine both datasets into a single dataframe.\n",
    "\n",
    "The target data (i.e. the dependent variable) is \"winetype\".\n"
   ]
  },
  {
   "cell_type": "code",
   "execution_count": 49,
   "metadata": {
    "colab": {
     "base_uri": "https://localhost:8080/",
     "height": 347
    },
    "id": "BIvy7l9PNBBa",
    "outputId": "e161efdc-d58b-4db9-979b-b778bbb0551b"
   },
   "outputs": [
    {
     "data": {
      "text/html": [
       "<div>\n",
       "<style scoped>\n",
       "    .dataframe tbody tr th:only-of-type {\n",
       "        vertical-align: middle;\n",
       "    }\n",
       "\n",
       "    .dataframe tbody tr th {\n",
       "        vertical-align: top;\n",
       "    }\n",
       "\n",
       "    .dataframe thead th {\n",
       "        text-align: right;\n",
       "    }\n",
       "</style>\n",
       "<table border=\"1\" class=\"dataframe\">\n",
       "  <thead>\n",
       "    <tr style=\"text-align: right;\">\n",
       "      <th></th>\n",
       "      <th>fixed acidity</th>\n",
       "      <th>volatile acidity</th>\n",
       "      <th>citric acid</th>\n",
       "      <th>residual sugar</th>\n",
       "      <th>chlorides</th>\n",
       "      <th>free sulfur dioxide</th>\n",
       "      <th>total sulfur dioxide</th>\n",
       "      <th>density</th>\n",
       "      <th>pH</th>\n",
       "      <th>sulphates</th>\n",
       "      <th>alcohol</th>\n",
       "      <th>quality</th>\n",
       "      <th>winetype</th>\n",
       "    </tr>\n",
       "  </thead>\n",
       "  <tbody>\n",
       "    <tr>\n",
       "      <th>0</th>\n",
       "      <td>7.4</td>\n",
       "      <td>0.70</td>\n",
       "      <td>0.00</td>\n",
       "      <td>1.9</td>\n",
       "      <td>0.076</td>\n",
       "      <td>11.0</td>\n",
       "      <td>34.0</td>\n",
       "      <td>0.9978</td>\n",
       "      <td>3.51</td>\n",
       "      <td>0.56</td>\n",
       "      <td>9.4</td>\n",
       "      <td>5</td>\n",
       "      <td>1</td>\n",
       "    </tr>\n",
       "    <tr>\n",
       "      <th>1</th>\n",
       "      <td>7.8</td>\n",
       "      <td>0.88</td>\n",
       "      <td>0.00</td>\n",
       "      <td>2.6</td>\n",
       "      <td>0.098</td>\n",
       "      <td>25.0</td>\n",
       "      <td>67.0</td>\n",
       "      <td>0.9968</td>\n",
       "      <td>3.20</td>\n",
       "      <td>0.68</td>\n",
       "      <td>9.8</td>\n",
       "      <td>5</td>\n",
       "      <td>1</td>\n",
       "    </tr>\n",
       "    <tr>\n",
       "      <th>2</th>\n",
       "      <td>7.8</td>\n",
       "      <td>0.76</td>\n",
       "      <td>0.04</td>\n",
       "      <td>2.3</td>\n",
       "      <td>0.092</td>\n",
       "      <td>15.0</td>\n",
       "      <td>54.0</td>\n",
       "      <td>0.9970</td>\n",
       "      <td>3.26</td>\n",
       "      <td>0.65</td>\n",
       "      <td>9.8</td>\n",
       "      <td>5</td>\n",
       "      <td>1</td>\n",
       "    </tr>\n",
       "    <tr>\n",
       "      <th>3</th>\n",
       "      <td>11.2</td>\n",
       "      <td>0.28</td>\n",
       "      <td>0.56</td>\n",
       "      <td>1.9</td>\n",
       "      <td>0.075</td>\n",
       "      <td>17.0</td>\n",
       "      <td>60.0</td>\n",
       "      <td>0.9980</td>\n",
       "      <td>3.16</td>\n",
       "      <td>0.58</td>\n",
       "      <td>9.8</td>\n",
       "      <td>6</td>\n",
       "      <td>1</td>\n",
       "    </tr>\n",
       "    <tr>\n",
       "      <th>4</th>\n",
       "      <td>7.4</td>\n",
       "      <td>0.70</td>\n",
       "      <td>0.00</td>\n",
       "      <td>1.9</td>\n",
       "      <td>0.076</td>\n",
       "      <td>11.0</td>\n",
       "      <td>34.0</td>\n",
       "      <td>0.9978</td>\n",
       "      <td>3.51</td>\n",
       "      <td>0.56</td>\n",
       "      <td>9.4</td>\n",
       "      <td>5</td>\n",
       "      <td>1</td>\n",
       "    </tr>\n",
       "    <tr>\n",
       "      <th>5</th>\n",
       "      <td>7.4</td>\n",
       "      <td>0.66</td>\n",
       "      <td>0.00</td>\n",
       "      <td>1.8</td>\n",
       "      <td>0.075</td>\n",
       "      <td>13.0</td>\n",
       "      <td>40.0</td>\n",
       "      <td>0.9978</td>\n",
       "      <td>3.51</td>\n",
       "      <td>0.56</td>\n",
       "      <td>9.4</td>\n",
       "      <td>5</td>\n",
       "      <td>1</td>\n",
       "    </tr>\n",
       "    <tr>\n",
       "      <th>6</th>\n",
       "      <td>7.9</td>\n",
       "      <td>0.60</td>\n",
       "      <td>0.06</td>\n",
       "      <td>1.6</td>\n",
       "      <td>0.069</td>\n",
       "      <td>15.0</td>\n",
       "      <td>59.0</td>\n",
       "      <td>0.9964</td>\n",
       "      <td>3.30</td>\n",
       "      <td>0.46</td>\n",
       "      <td>9.4</td>\n",
       "      <td>5</td>\n",
       "      <td>1</td>\n",
       "    </tr>\n",
       "    <tr>\n",
       "      <th>7</th>\n",
       "      <td>7.3</td>\n",
       "      <td>0.65</td>\n",
       "      <td>0.00</td>\n",
       "      <td>1.2</td>\n",
       "      <td>0.065</td>\n",
       "      <td>15.0</td>\n",
       "      <td>21.0</td>\n",
       "      <td>0.9946</td>\n",
       "      <td>3.39</td>\n",
       "      <td>0.47</td>\n",
       "      <td>10.0</td>\n",
       "      <td>7</td>\n",
       "      <td>1</td>\n",
       "    </tr>\n",
       "    <tr>\n",
       "      <th>8</th>\n",
       "      <td>7.8</td>\n",
       "      <td>0.58</td>\n",
       "      <td>0.02</td>\n",
       "      <td>2.0</td>\n",
       "      <td>0.073</td>\n",
       "      <td>9.0</td>\n",
       "      <td>18.0</td>\n",
       "      <td>0.9968</td>\n",
       "      <td>3.36</td>\n",
       "      <td>0.57</td>\n",
       "      <td>9.5</td>\n",
       "      <td>7</td>\n",
       "      <td>1</td>\n",
       "    </tr>\n",
       "    <tr>\n",
       "      <th>9</th>\n",
       "      <td>7.5</td>\n",
       "      <td>0.50</td>\n",
       "      <td>0.36</td>\n",
       "      <td>6.1</td>\n",
       "      <td>0.071</td>\n",
       "      <td>17.0</td>\n",
       "      <td>102.0</td>\n",
       "      <td>0.9978</td>\n",
       "      <td>3.35</td>\n",
       "      <td>0.80</td>\n",
       "      <td>10.5</td>\n",
       "      <td>5</td>\n",
       "      <td>1</td>\n",
       "    </tr>\n",
       "  </tbody>\n",
       "</table>\n",
       "</div>"
      ],
      "text/plain": [
       "   fixed acidity  volatile acidity  citric acid  residual sugar  chlorides  \\\n",
       "0            7.4              0.70         0.00             1.9      0.076   \n",
       "1            7.8              0.88         0.00             2.6      0.098   \n",
       "2            7.8              0.76         0.04             2.3      0.092   \n",
       "3           11.2              0.28         0.56             1.9      0.075   \n",
       "4            7.4              0.70         0.00             1.9      0.076   \n",
       "5            7.4              0.66         0.00             1.8      0.075   \n",
       "6            7.9              0.60         0.06             1.6      0.069   \n",
       "7            7.3              0.65         0.00             1.2      0.065   \n",
       "8            7.8              0.58         0.02             2.0      0.073   \n",
       "9            7.5              0.50         0.36             6.1      0.071   \n",
       "\n",
       "   free sulfur dioxide  total sulfur dioxide  density    pH  sulphates  \\\n",
       "0                 11.0                  34.0   0.9978  3.51       0.56   \n",
       "1                 25.0                  67.0   0.9968  3.20       0.68   \n",
       "2                 15.0                  54.0   0.9970  3.26       0.65   \n",
       "3                 17.0                  60.0   0.9980  3.16       0.58   \n",
       "4                 11.0                  34.0   0.9978  3.51       0.56   \n",
       "5                 13.0                  40.0   0.9978  3.51       0.56   \n",
       "6                 15.0                  59.0   0.9964  3.30       0.46   \n",
       "7                 15.0                  21.0   0.9946  3.39       0.47   \n",
       "8                  9.0                  18.0   0.9968  3.36       0.57   \n",
       "9                 17.0                 102.0   0.9978  3.35       0.80   \n",
       "\n",
       "   alcohol  quality  winetype  \n",
       "0      9.4        5         1  \n",
       "1      9.8        5         1  \n",
       "2      9.8        5         1  \n",
       "3      9.8        6         1  \n",
       "4      9.4        5         1  \n",
       "5      9.4        5         1  \n",
       "6      9.4        5         1  \n",
       "7     10.0        7         1  \n",
       "8      9.5        7         1  \n",
       "9     10.5        5         1  "
      ]
     },
     "execution_count": 49,
     "metadata": {},
     "output_type": "execute_result"
    }
   ],
   "source": [
    "from matplotlib import pyplot as plt\n",
    "import pandas as pd\n",
    "import numpy as np\n",
    "import seaborn as sns\n",
    "\n",
    "dfred = pd.read_csv(\"https://archive.ics.uci.edu/ml/machine-learning-databases/wine-quality/winequality-red.csv\", sep=';')\n",
    "dfred['winetype'] = 1\n",
    "dfred.head(10)"
   ]
  },
  {
   "cell_type": "code",
   "execution_count": 50,
   "metadata": {
    "colab": {
     "base_uri": "https://localhost:8080/",
     "height": 347
    },
    "id": "vUaq-0sAxK2E",
    "outputId": "0c2eff2b-0d05-43c3-ab79-0e96320538ad"
   },
   "outputs": [
    {
     "data": {
      "text/html": [
       "<div>\n",
       "<style scoped>\n",
       "    .dataframe tbody tr th:only-of-type {\n",
       "        vertical-align: middle;\n",
       "    }\n",
       "\n",
       "    .dataframe tbody tr th {\n",
       "        vertical-align: top;\n",
       "    }\n",
       "\n",
       "    .dataframe thead th {\n",
       "        text-align: right;\n",
       "    }\n",
       "</style>\n",
       "<table border=\"1\" class=\"dataframe\">\n",
       "  <thead>\n",
       "    <tr style=\"text-align: right;\">\n",
       "      <th></th>\n",
       "      <th>fixed acidity</th>\n",
       "      <th>volatile acidity</th>\n",
       "      <th>citric acid</th>\n",
       "      <th>residual sugar</th>\n",
       "      <th>chlorides</th>\n",
       "      <th>free sulfur dioxide</th>\n",
       "      <th>total sulfur dioxide</th>\n",
       "      <th>density</th>\n",
       "      <th>pH</th>\n",
       "      <th>sulphates</th>\n",
       "      <th>alcohol</th>\n",
       "      <th>quality</th>\n",
       "      <th>winetype</th>\n",
       "    </tr>\n",
       "  </thead>\n",
       "  <tbody>\n",
       "    <tr>\n",
       "      <th>0</th>\n",
       "      <td>7.0</td>\n",
       "      <td>0.27</td>\n",
       "      <td>0.36</td>\n",
       "      <td>20.7</td>\n",
       "      <td>0.045</td>\n",
       "      <td>45.0</td>\n",
       "      <td>170.0</td>\n",
       "      <td>1.0010</td>\n",
       "      <td>3.00</td>\n",
       "      <td>0.45</td>\n",
       "      <td>8.8</td>\n",
       "      <td>6</td>\n",
       "      <td>0</td>\n",
       "    </tr>\n",
       "    <tr>\n",
       "      <th>1</th>\n",
       "      <td>6.3</td>\n",
       "      <td>0.30</td>\n",
       "      <td>0.34</td>\n",
       "      <td>1.6</td>\n",
       "      <td>0.049</td>\n",
       "      <td>14.0</td>\n",
       "      <td>132.0</td>\n",
       "      <td>0.9940</td>\n",
       "      <td>3.30</td>\n",
       "      <td>0.49</td>\n",
       "      <td>9.5</td>\n",
       "      <td>6</td>\n",
       "      <td>0</td>\n",
       "    </tr>\n",
       "    <tr>\n",
       "      <th>2</th>\n",
       "      <td>8.1</td>\n",
       "      <td>0.28</td>\n",
       "      <td>0.40</td>\n",
       "      <td>6.9</td>\n",
       "      <td>0.050</td>\n",
       "      <td>30.0</td>\n",
       "      <td>97.0</td>\n",
       "      <td>0.9951</td>\n",
       "      <td>3.26</td>\n",
       "      <td>0.44</td>\n",
       "      <td>10.1</td>\n",
       "      <td>6</td>\n",
       "      <td>0</td>\n",
       "    </tr>\n",
       "    <tr>\n",
       "      <th>3</th>\n",
       "      <td>7.2</td>\n",
       "      <td>0.23</td>\n",
       "      <td>0.32</td>\n",
       "      <td>8.5</td>\n",
       "      <td>0.058</td>\n",
       "      <td>47.0</td>\n",
       "      <td>186.0</td>\n",
       "      <td>0.9956</td>\n",
       "      <td>3.19</td>\n",
       "      <td>0.40</td>\n",
       "      <td>9.9</td>\n",
       "      <td>6</td>\n",
       "      <td>0</td>\n",
       "    </tr>\n",
       "    <tr>\n",
       "      <th>4</th>\n",
       "      <td>7.2</td>\n",
       "      <td>0.23</td>\n",
       "      <td>0.32</td>\n",
       "      <td>8.5</td>\n",
       "      <td>0.058</td>\n",
       "      <td>47.0</td>\n",
       "      <td>186.0</td>\n",
       "      <td>0.9956</td>\n",
       "      <td>3.19</td>\n",
       "      <td>0.40</td>\n",
       "      <td>9.9</td>\n",
       "      <td>6</td>\n",
       "      <td>0</td>\n",
       "    </tr>\n",
       "    <tr>\n",
       "      <th>5</th>\n",
       "      <td>8.1</td>\n",
       "      <td>0.28</td>\n",
       "      <td>0.40</td>\n",
       "      <td>6.9</td>\n",
       "      <td>0.050</td>\n",
       "      <td>30.0</td>\n",
       "      <td>97.0</td>\n",
       "      <td>0.9951</td>\n",
       "      <td>3.26</td>\n",
       "      <td>0.44</td>\n",
       "      <td>10.1</td>\n",
       "      <td>6</td>\n",
       "      <td>0</td>\n",
       "    </tr>\n",
       "    <tr>\n",
       "      <th>6</th>\n",
       "      <td>6.2</td>\n",
       "      <td>0.32</td>\n",
       "      <td>0.16</td>\n",
       "      <td>7.0</td>\n",
       "      <td>0.045</td>\n",
       "      <td>30.0</td>\n",
       "      <td>136.0</td>\n",
       "      <td>0.9949</td>\n",
       "      <td>3.18</td>\n",
       "      <td>0.47</td>\n",
       "      <td>9.6</td>\n",
       "      <td>6</td>\n",
       "      <td>0</td>\n",
       "    </tr>\n",
       "    <tr>\n",
       "      <th>7</th>\n",
       "      <td>7.0</td>\n",
       "      <td>0.27</td>\n",
       "      <td>0.36</td>\n",
       "      <td>20.7</td>\n",
       "      <td>0.045</td>\n",
       "      <td>45.0</td>\n",
       "      <td>170.0</td>\n",
       "      <td>1.0010</td>\n",
       "      <td>3.00</td>\n",
       "      <td>0.45</td>\n",
       "      <td>8.8</td>\n",
       "      <td>6</td>\n",
       "      <td>0</td>\n",
       "    </tr>\n",
       "    <tr>\n",
       "      <th>8</th>\n",
       "      <td>6.3</td>\n",
       "      <td>0.30</td>\n",
       "      <td>0.34</td>\n",
       "      <td>1.6</td>\n",
       "      <td>0.049</td>\n",
       "      <td>14.0</td>\n",
       "      <td>132.0</td>\n",
       "      <td>0.9940</td>\n",
       "      <td>3.30</td>\n",
       "      <td>0.49</td>\n",
       "      <td>9.5</td>\n",
       "      <td>6</td>\n",
       "      <td>0</td>\n",
       "    </tr>\n",
       "    <tr>\n",
       "      <th>9</th>\n",
       "      <td>8.1</td>\n",
       "      <td>0.22</td>\n",
       "      <td>0.43</td>\n",
       "      <td>1.5</td>\n",
       "      <td>0.044</td>\n",
       "      <td>28.0</td>\n",
       "      <td>129.0</td>\n",
       "      <td>0.9938</td>\n",
       "      <td>3.22</td>\n",
       "      <td>0.45</td>\n",
       "      <td>11.0</td>\n",
       "      <td>6</td>\n",
       "      <td>0</td>\n",
       "    </tr>\n",
       "  </tbody>\n",
       "</table>\n",
       "</div>"
      ],
      "text/plain": [
       "   fixed acidity  volatile acidity  citric acid  residual sugar  chlorides  \\\n",
       "0            7.0              0.27         0.36            20.7      0.045   \n",
       "1            6.3              0.30         0.34             1.6      0.049   \n",
       "2            8.1              0.28         0.40             6.9      0.050   \n",
       "3            7.2              0.23         0.32             8.5      0.058   \n",
       "4            7.2              0.23         0.32             8.5      0.058   \n",
       "5            8.1              0.28         0.40             6.9      0.050   \n",
       "6            6.2              0.32         0.16             7.0      0.045   \n",
       "7            7.0              0.27         0.36            20.7      0.045   \n",
       "8            6.3              0.30         0.34             1.6      0.049   \n",
       "9            8.1              0.22         0.43             1.5      0.044   \n",
       "\n",
       "   free sulfur dioxide  total sulfur dioxide  density    pH  sulphates  \\\n",
       "0                 45.0                 170.0   1.0010  3.00       0.45   \n",
       "1                 14.0                 132.0   0.9940  3.30       0.49   \n",
       "2                 30.0                  97.0   0.9951  3.26       0.44   \n",
       "3                 47.0                 186.0   0.9956  3.19       0.40   \n",
       "4                 47.0                 186.0   0.9956  3.19       0.40   \n",
       "5                 30.0                  97.0   0.9951  3.26       0.44   \n",
       "6                 30.0                 136.0   0.9949  3.18       0.47   \n",
       "7                 45.0                 170.0   1.0010  3.00       0.45   \n",
       "8                 14.0                 132.0   0.9940  3.30       0.49   \n",
       "9                 28.0                 129.0   0.9938  3.22       0.45   \n",
       "\n",
       "   alcohol  quality  winetype  \n",
       "0      8.8        6         0  \n",
       "1      9.5        6         0  \n",
       "2     10.1        6         0  \n",
       "3      9.9        6         0  \n",
       "4      9.9        6         0  \n",
       "5     10.1        6         0  \n",
       "6      9.6        6         0  \n",
       "7      8.8        6         0  \n",
       "8      9.5        6         0  \n",
       "9     11.0        6         0  "
      ]
     },
     "execution_count": 50,
     "metadata": {},
     "output_type": "execute_result"
    }
   ],
   "source": [
    "dfwhite = pd.read_csv(\"https://archive.ics.uci.edu/ml/machine-learning-databases/wine-quality/winequality-white.csv\", sep=';')\n",
    "dfwhite['winetype'] = 0\n",
    "dfwhite.head(10)"
   ]
  },
  {
   "cell_type": "code",
   "execution_count": 51,
   "metadata": {
    "colab": {
     "base_uri": "https://localhost:8080/",
     "height": 347
    },
    "id": "Ti47WFh63Mqg",
    "outputId": "76d93c1d-4ee6-48fb-a41c-baf68baf6130"
   },
   "outputs": [
    {
     "data": {
      "text/html": [
       "<div>\n",
       "<style scoped>\n",
       "    .dataframe tbody tr th:only-of-type {\n",
       "        vertical-align: middle;\n",
       "    }\n",
       "\n",
       "    .dataframe tbody tr th {\n",
       "        vertical-align: top;\n",
       "    }\n",
       "\n",
       "    .dataframe thead th {\n",
       "        text-align: right;\n",
       "    }\n",
       "</style>\n",
       "<table border=\"1\" class=\"dataframe\">\n",
       "  <thead>\n",
       "    <tr style=\"text-align: right;\">\n",
       "      <th></th>\n",
       "      <th>fixed acidity</th>\n",
       "      <th>volatile acidity</th>\n",
       "      <th>citric acid</th>\n",
       "      <th>residual sugar</th>\n",
       "      <th>chlorides</th>\n",
       "      <th>free sulfur dioxide</th>\n",
       "      <th>total sulfur dioxide</th>\n",
       "      <th>density</th>\n",
       "      <th>pH</th>\n",
       "      <th>sulphates</th>\n",
       "      <th>alcohol</th>\n",
       "      <th>quality</th>\n",
       "      <th>winetype</th>\n",
       "    </tr>\n",
       "  </thead>\n",
       "  <tbody>\n",
       "    <tr>\n",
       "      <th>0</th>\n",
       "      <td>7.4</td>\n",
       "      <td>0.70</td>\n",
       "      <td>0.00</td>\n",
       "      <td>1.9</td>\n",
       "      <td>0.076</td>\n",
       "      <td>11.0</td>\n",
       "      <td>34.0</td>\n",
       "      <td>0.9978</td>\n",
       "      <td>3.51</td>\n",
       "      <td>0.56</td>\n",
       "      <td>9.4</td>\n",
       "      <td>5</td>\n",
       "      <td>1</td>\n",
       "    </tr>\n",
       "    <tr>\n",
       "      <th>1</th>\n",
       "      <td>7.8</td>\n",
       "      <td>0.88</td>\n",
       "      <td>0.00</td>\n",
       "      <td>2.6</td>\n",
       "      <td>0.098</td>\n",
       "      <td>25.0</td>\n",
       "      <td>67.0</td>\n",
       "      <td>0.9968</td>\n",
       "      <td>3.20</td>\n",
       "      <td>0.68</td>\n",
       "      <td>9.8</td>\n",
       "      <td>5</td>\n",
       "      <td>1</td>\n",
       "    </tr>\n",
       "    <tr>\n",
       "      <th>2</th>\n",
       "      <td>7.8</td>\n",
       "      <td>0.76</td>\n",
       "      <td>0.04</td>\n",
       "      <td>2.3</td>\n",
       "      <td>0.092</td>\n",
       "      <td>15.0</td>\n",
       "      <td>54.0</td>\n",
       "      <td>0.9970</td>\n",
       "      <td>3.26</td>\n",
       "      <td>0.65</td>\n",
       "      <td>9.8</td>\n",
       "      <td>5</td>\n",
       "      <td>1</td>\n",
       "    </tr>\n",
       "    <tr>\n",
       "      <th>3</th>\n",
       "      <td>11.2</td>\n",
       "      <td>0.28</td>\n",
       "      <td>0.56</td>\n",
       "      <td>1.9</td>\n",
       "      <td>0.075</td>\n",
       "      <td>17.0</td>\n",
       "      <td>60.0</td>\n",
       "      <td>0.9980</td>\n",
       "      <td>3.16</td>\n",
       "      <td>0.58</td>\n",
       "      <td>9.8</td>\n",
       "      <td>6</td>\n",
       "      <td>1</td>\n",
       "    </tr>\n",
       "    <tr>\n",
       "      <th>4</th>\n",
       "      <td>7.4</td>\n",
       "      <td>0.70</td>\n",
       "      <td>0.00</td>\n",
       "      <td>1.9</td>\n",
       "      <td>0.076</td>\n",
       "      <td>11.0</td>\n",
       "      <td>34.0</td>\n",
       "      <td>0.9978</td>\n",
       "      <td>3.51</td>\n",
       "      <td>0.56</td>\n",
       "      <td>9.4</td>\n",
       "      <td>5</td>\n",
       "      <td>1</td>\n",
       "    </tr>\n",
       "    <tr>\n",
       "      <th>5</th>\n",
       "      <td>7.4</td>\n",
       "      <td>0.66</td>\n",
       "      <td>0.00</td>\n",
       "      <td>1.8</td>\n",
       "      <td>0.075</td>\n",
       "      <td>13.0</td>\n",
       "      <td>40.0</td>\n",
       "      <td>0.9978</td>\n",
       "      <td>3.51</td>\n",
       "      <td>0.56</td>\n",
       "      <td>9.4</td>\n",
       "      <td>5</td>\n",
       "      <td>1</td>\n",
       "    </tr>\n",
       "    <tr>\n",
       "      <th>6</th>\n",
       "      <td>7.9</td>\n",
       "      <td>0.60</td>\n",
       "      <td>0.06</td>\n",
       "      <td>1.6</td>\n",
       "      <td>0.069</td>\n",
       "      <td>15.0</td>\n",
       "      <td>59.0</td>\n",
       "      <td>0.9964</td>\n",
       "      <td>3.30</td>\n",
       "      <td>0.46</td>\n",
       "      <td>9.4</td>\n",
       "      <td>5</td>\n",
       "      <td>1</td>\n",
       "    </tr>\n",
       "    <tr>\n",
       "      <th>7</th>\n",
       "      <td>7.3</td>\n",
       "      <td>0.65</td>\n",
       "      <td>0.00</td>\n",
       "      <td>1.2</td>\n",
       "      <td>0.065</td>\n",
       "      <td>15.0</td>\n",
       "      <td>21.0</td>\n",
       "      <td>0.9946</td>\n",
       "      <td>3.39</td>\n",
       "      <td>0.47</td>\n",
       "      <td>10.0</td>\n",
       "      <td>7</td>\n",
       "      <td>1</td>\n",
       "    </tr>\n",
       "    <tr>\n",
       "      <th>8</th>\n",
       "      <td>7.8</td>\n",
       "      <td>0.58</td>\n",
       "      <td>0.02</td>\n",
       "      <td>2.0</td>\n",
       "      <td>0.073</td>\n",
       "      <td>9.0</td>\n",
       "      <td>18.0</td>\n",
       "      <td>0.9968</td>\n",
       "      <td>3.36</td>\n",
       "      <td>0.57</td>\n",
       "      <td>9.5</td>\n",
       "      <td>7</td>\n",
       "      <td>1</td>\n",
       "    </tr>\n",
       "    <tr>\n",
       "      <th>9</th>\n",
       "      <td>7.5</td>\n",
       "      <td>0.50</td>\n",
       "      <td>0.36</td>\n",
       "      <td>6.1</td>\n",
       "      <td>0.071</td>\n",
       "      <td>17.0</td>\n",
       "      <td>102.0</td>\n",
       "      <td>0.9978</td>\n",
       "      <td>3.35</td>\n",
       "      <td>0.80</td>\n",
       "      <td>10.5</td>\n",
       "      <td>5</td>\n",
       "      <td>1</td>\n",
       "    </tr>\n",
       "  </tbody>\n",
       "</table>\n",
       "</div>"
      ],
      "text/plain": [
       "   fixed acidity  volatile acidity  citric acid  residual sugar  chlorides  \\\n",
       "0            7.4              0.70         0.00             1.9      0.076   \n",
       "1            7.8              0.88         0.00             2.6      0.098   \n",
       "2            7.8              0.76         0.04             2.3      0.092   \n",
       "3           11.2              0.28         0.56             1.9      0.075   \n",
       "4            7.4              0.70         0.00             1.9      0.076   \n",
       "5            7.4              0.66         0.00             1.8      0.075   \n",
       "6            7.9              0.60         0.06             1.6      0.069   \n",
       "7            7.3              0.65         0.00             1.2      0.065   \n",
       "8            7.8              0.58         0.02             2.0      0.073   \n",
       "9            7.5              0.50         0.36             6.1      0.071   \n",
       "\n",
       "   free sulfur dioxide  total sulfur dioxide  density    pH  sulphates  \\\n",
       "0                 11.0                  34.0   0.9978  3.51       0.56   \n",
       "1                 25.0                  67.0   0.9968  3.20       0.68   \n",
       "2                 15.0                  54.0   0.9970  3.26       0.65   \n",
       "3                 17.0                  60.0   0.9980  3.16       0.58   \n",
       "4                 11.0                  34.0   0.9978  3.51       0.56   \n",
       "5                 13.0                  40.0   0.9978  3.51       0.56   \n",
       "6                 15.0                  59.0   0.9964  3.30       0.46   \n",
       "7                 15.0                  21.0   0.9946  3.39       0.47   \n",
       "8                  9.0                  18.0   0.9968  3.36       0.57   \n",
       "9                 17.0                 102.0   0.9978  3.35       0.80   \n",
       "\n",
       "   alcohol  quality  winetype  \n",
       "0      9.4        5         1  \n",
       "1      9.8        5         1  \n",
       "2      9.8        5         1  \n",
       "3      9.8        6         1  \n",
       "4      9.4        5         1  \n",
       "5      9.4        5         1  \n",
       "6      9.4        5         1  \n",
       "7     10.0        7         1  \n",
       "8      9.5        7         1  \n",
       "9     10.5        5         1  "
      ]
     },
     "execution_count": 51,
     "metadata": {},
     "output_type": "execute_result"
    }
   ],
   "source": [
    "# Joint the two lists\n",
    "\n",
    "df = pd.concat([dfred, dfwhite])\n",
    "\n",
    "df.head(10)"
   ]
  },
  {
   "cell_type": "code",
   "execution_count": 52,
   "metadata": {
    "id": "JUU2ZcKr5U6U"
   },
   "outputs": [
    {
     "data": {
      "text/html": [
       "<div>\n",
       "<style scoped>\n",
       "    .dataframe tbody tr th:only-of-type {\n",
       "        vertical-align: middle;\n",
       "    }\n",
       "\n",
       "    .dataframe tbody tr th {\n",
       "        vertical-align: top;\n",
       "    }\n",
       "\n",
       "    .dataframe thead th {\n",
       "        text-align: right;\n",
       "    }\n",
       "</style>\n",
       "<table border=\"1\" class=\"dataframe\">\n",
       "  <thead>\n",
       "    <tr style=\"text-align: right;\">\n",
       "      <th></th>\n",
       "      <th>fixed acidity</th>\n",
       "      <th>volatile acidity</th>\n",
       "      <th>citric acid</th>\n",
       "      <th>residual sugar</th>\n",
       "      <th>chlorides</th>\n",
       "      <th>free sulfur dioxide</th>\n",
       "      <th>total sulfur dioxide</th>\n",
       "      <th>density</th>\n",
       "      <th>pH</th>\n",
       "      <th>sulphates</th>\n",
       "      <th>alcohol</th>\n",
       "      <th>quality</th>\n",
       "      <th>winetype</th>\n",
       "    </tr>\n",
       "  </thead>\n",
       "  <tbody>\n",
       "    <tr>\n",
       "      <th>4888</th>\n",
       "      <td>6.8</td>\n",
       "      <td>0.220</td>\n",
       "      <td>0.36</td>\n",
       "      <td>1.20</td>\n",
       "      <td>0.052</td>\n",
       "      <td>38.0</td>\n",
       "      <td>127.0</td>\n",
       "      <td>0.99330</td>\n",
       "      <td>3.04</td>\n",
       "      <td>0.54</td>\n",
       "      <td>9.2</td>\n",
       "      <td>5</td>\n",
       "      <td>0</td>\n",
       "    </tr>\n",
       "    <tr>\n",
       "      <th>4889</th>\n",
       "      <td>4.9</td>\n",
       "      <td>0.235</td>\n",
       "      <td>0.27</td>\n",
       "      <td>11.75</td>\n",
       "      <td>0.030</td>\n",
       "      <td>34.0</td>\n",
       "      <td>118.0</td>\n",
       "      <td>0.99540</td>\n",
       "      <td>3.07</td>\n",
       "      <td>0.50</td>\n",
       "      <td>9.4</td>\n",
       "      <td>6</td>\n",
       "      <td>0</td>\n",
       "    </tr>\n",
       "    <tr>\n",
       "      <th>4890</th>\n",
       "      <td>6.1</td>\n",
       "      <td>0.340</td>\n",
       "      <td>0.29</td>\n",
       "      <td>2.20</td>\n",
       "      <td>0.036</td>\n",
       "      <td>25.0</td>\n",
       "      <td>100.0</td>\n",
       "      <td>0.98938</td>\n",
       "      <td>3.06</td>\n",
       "      <td>0.44</td>\n",
       "      <td>11.8</td>\n",
       "      <td>6</td>\n",
       "      <td>0</td>\n",
       "    </tr>\n",
       "    <tr>\n",
       "      <th>4891</th>\n",
       "      <td>5.7</td>\n",
       "      <td>0.210</td>\n",
       "      <td>0.32</td>\n",
       "      <td>0.90</td>\n",
       "      <td>0.038</td>\n",
       "      <td>38.0</td>\n",
       "      <td>121.0</td>\n",
       "      <td>0.99074</td>\n",
       "      <td>3.24</td>\n",
       "      <td>0.46</td>\n",
       "      <td>10.6</td>\n",
       "      <td>6</td>\n",
       "      <td>0</td>\n",
       "    </tr>\n",
       "    <tr>\n",
       "      <th>4892</th>\n",
       "      <td>6.5</td>\n",
       "      <td>0.230</td>\n",
       "      <td>0.38</td>\n",
       "      <td>1.30</td>\n",
       "      <td>0.032</td>\n",
       "      <td>29.0</td>\n",
       "      <td>112.0</td>\n",
       "      <td>0.99298</td>\n",
       "      <td>3.29</td>\n",
       "      <td>0.54</td>\n",
       "      <td>9.7</td>\n",
       "      <td>5</td>\n",
       "      <td>0</td>\n",
       "    </tr>\n",
       "    <tr>\n",
       "      <th>4893</th>\n",
       "      <td>6.2</td>\n",
       "      <td>0.210</td>\n",
       "      <td>0.29</td>\n",
       "      <td>1.60</td>\n",
       "      <td>0.039</td>\n",
       "      <td>24.0</td>\n",
       "      <td>92.0</td>\n",
       "      <td>0.99114</td>\n",
       "      <td>3.27</td>\n",
       "      <td>0.50</td>\n",
       "      <td>11.2</td>\n",
       "      <td>6</td>\n",
       "      <td>0</td>\n",
       "    </tr>\n",
       "    <tr>\n",
       "      <th>4894</th>\n",
       "      <td>6.6</td>\n",
       "      <td>0.320</td>\n",
       "      <td>0.36</td>\n",
       "      <td>8.00</td>\n",
       "      <td>0.047</td>\n",
       "      <td>57.0</td>\n",
       "      <td>168.0</td>\n",
       "      <td>0.99490</td>\n",
       "      <td>3.15</td>\n",
       "      <td>0.46</td>\n",
       "      <td>9.6</td>\n",
       "      <td>5</td>\n",
       "      <td>0</td>\n",
       "    </tr>\n",
       "    <tr>\n",
       "      <th>4895</th>\n",
       "      <td>6.5</td>\n",
       "      <td>0.240</td>\n",
       "      <td>0.19</td>\n",
       "      <td>1.20</td>\n",
       "      <td>0.041</td>\n",
       "      <td>30.0</td>\n",
       "      <td>111.0</td>\n",
       "      <td>0.99254</td>\n",
       "      <td>2.99</td>\n",
       "      <td>0.46</td>\n",
       "      <td>9.4</td>\n",
       "      <td>6</td>\n",
       "      <td>0</td>\n",
       "    </tr>\n",
       "    <tr>\n",
       "      <th>4896</th>\n",
       "      <td>5.5</td>\n",
       "      <td>0.290</td>\n",
       "      <td>0.30</td>\n",
       "      <td>1.10</td>\n",
       "      <td>0.022</td>\n",
       "      <td>20.0</td>\n",
       "      <td>110.0</td>\n",
       "      <td>0.98869</td>\n",
       "      <td>3.34</td>\n",
       "      <td>0.38</td>\n",
       "      <td>12.8</td>\n",
       "      <td>7</td>\n",
       "      <td>0</td>\n",
       "    </tr>\n",
       "    <tr>\n",
       "      <th>4897</th>\n",
       "      <td>6.0</td>\n",
       "      <td>0.210</td>\n",
       "      <td>0.38</td>\n",
       "      <td>0.80</td>\n",
       "      <td>0.020</td>\n",
       "      <td>22.0</td>\n",
       "      <td>98.0</td>\n",
       "      <td>0.98941</td>\n",
       "      <td>3.26</td>\n",
       "      <td>0.32</td>\n",
       "      <td>11.8</td>\n",
       "      <td>6</td>\n",
       "      <td>0</td>\n",
       "    </tr>\n",
       "  </tbody>\n",
       "</table>\n",
       "</div>"
      ],
      "text/plain": [
       "      fixed acidity  volatile acidity  citric acid  residual sugar  chlorides  \\\n",
       "4888            6.8             0.220         0.36            1.20      0.052   \n",
       "4889            4.9             0.235         0.27           11.75      0.030   \n",
       "4890            6.1             0.340         0.29            2.20      0.036   \n",
       "4891            5.7             0.210         0.32            0.90      0.038   \n",
       "4892            6.5             0.230         0.38            1.30      0.032   \n",
       "4893            6.2             0.210         0.29            1.60      0.039   \n",
       "4894            6.6             0.320         0.36            8.00      0.047   \n",
       "4895            6.5             0.240         0.19            1.20      0.041   \n",
       "4896            5.5             0.290         0.30            1.10      0.022   \n",
       "4897            6.0             0.210         0.38            0.80      0.020   \n",
       "\n",
       "      free sulfur dioxide  total sulfur dioxide  density    pH  sulphates  \\\n",
       "4888                 38.0                 127.0  0.99330  3.04       0.54   \n",
       "4889                 34.0                 118.0  0.99540  3.07       0.50   \n",
       "4890                 25.0                 100.0  0.98938  3.06       0.44   \n",
       "4891                 38.0                 121.0  0.99074  3.24       0.46   \n",
       "4892                 29.0                 112.0  0.99298  3.29       0.54   \n",
       "4893                 24.0                  92.0  0.99114  3.27       0.50   \n",
       "4894                 57.0                 168.0  0.99490  3.15       0.46   \n",
       "4895                 30.0                 111.0  0.99254  2.99       0.46   \n",
       "4896                 20.0                 110.0  0.98869  3.34       0.38   \n",
       "4897                 22.0                  98.0  0.98941  3.26       0.32   \n",
       "\n",
       "      alcohol  quality  winetype  \n",
       "4888      9.2        5         0  \n",
       "4889      9.4        6         0  \n",
       "4890     11.8        6         0  \n",
       "4891     10.6        6         0  \n",
       "4892      9.7        5         0  \n",
       "4893     11.2        6         0  \n",
       "4894      9.6        5         0  \n",
       "4895      9.4        6         0  \n",
       "4896     12.8        7         0  \n",
       "4897     11.8        6         0  "
      ]
     },
     "execution_count": 52,
     "metadata": {},
     "output_type": "execute_result"
    }
   ],
   "source": [
    "df.tail(10)"
   ]
  },
  {
   "cell_type": "markdown",
   "metadata": {
    "id": "qjmXrV_MMF8x"
   },
   "source": [
    "## 2.1 Visualize the univariate distribution of the target feature and each of the three explanatory variables that you think are likely to have a relationship with the target feature.   "
   ]
  },
  {
   "cell_type": "code",
   "execution_count": 53,
   "metadata": {
    "colab": {
     "base_uri": "https://localhost:8080/",
     "height": 296
    },
    "id": "X9nXpAnJ_Lbc",
    "outputId": "d0dc6ac0-9499-4a46-fcbe-6d4750d353e6"
   },
   "outputs": [
    {
     "data": {
      "text/plain": [
       "Text(0, 0.5, 'count')"
      ]
     },
     "execution_count": 53,
     "metadata": {},
     "output_type": "execute_result"
    },
    {
     "data": {
      "image/png": "[encoded data removed]",
      "text/plain": [
       "<Figure size 432x288 with 1 Axes>"
      ]
     },
     "metadata": {
      "needs_background": "light"
     },
     "output_type": "display_data"
    }
   ],
   "source": [
    "plt.hist(df['winetype'])\n",
    "plt.xlabel('winetype')\n",
    "plt.ylabel('count')"
   ]
  },
  {
   "cell_type": "code",
   "execution_count": 54,
   "metadata": {
    "colab": {
     "base_uri": "https://localhost:8080/",
     "height": 296
    },
    "id": "dqUzSDalXaxU",
    "outputId": "e5e0718b-3674-42e5-9868-6ae50ec669ff"
   },
   "outputs": [
    {
     "data": {
      "text/plain": [
       "Text(0, 0.5, 'count')"
      ]
     },
     "execution_count": 54,
     "metadata": {},
     "output_type": "execute_result"
    },
    {
     "data": {
      "image/png": "[encoded data removed]",
      "text/plain": [
       "<Figure size 432x288 with 1 Axes>"
      ]
     },
     "metadata": {
      "needs_background": "light"
     },
     "output_type": "display_data"
    }
   ],
   "source": [
    "df['fixed acidity'].hist()\n",
    "plt.xlabel('fixed acidity')\n",
    "plt.ylabel('count')"
   ]
  },
  {
   "cell_type": "code",
   "execution_count": 55,
   "metadata": {
    "id": "PacZmYHPZDhN"
   },
   "outputs": [
    {
     "data": {
      "text/plain": [
       "Text(0, 0.5, 'count')"
      ]
     },
     "execution_count": 55,
     "metadata": {},
     "output_type": "execute_result"
    },
    {
     "data": {
      "image/png": "[encoded data removed]",
      "text/plain": [
       "<Figure size 432x288 with 1 Axes>"
      ]
     },
     "metadata": {
      "needs_background": "light"
     },
     "output_type": "display_data"
    }
   ],
   "source": [
    "df['total sulfur dioxide'].hist()\n",
    "plt.xlabel('total sulfur dioxide')\n",
    "plt.ylabel('count')"
   ]
  },
  {
   "cell_type": "code",
   "execution_count": 56,
   "metadata": {
    "colab": {
     "base_uri": "https://localhost:8080/",
     "height": 296
    },
    "id": "fhTlF6aLaJUH",
    "outputId": "6bcbcac1-e783-4546-a943-c33f69184fcc"
   },
   "outputs": [
    {
     "data": {
      "text/plain": [
       "Text(0, 0.5, 'count')"
      ]
     },
     "execution_count": 56,
     "metadata": {},
     "output_type": "execute_result"
    },
    {
     "data": {
      "image/png": "[encoded data removed]",
      "text/plain": [
       "<Figure size 432x288 with 1 Axes>"
      ]
     },
     "metadata": {
      "needs_background": "light"
     },
     "output_type": "display_data"
    }
   ],
   "source": [
    "df['chlorides'].hist()\n",
    "plt.xlabel('chlorides')\n",
    "plt.ylabel('count')"
   ]
  },
  {
   "cell_type": "markdown",
   "metadata": {
    "id": "MMbuekoynqc2"
   },
   "source": [
    "## 2.2 Split data into training and test set. \n",
    "\n",
    "## Build models that evaluate the relationship between all available X variables in the dataset and the target variable. Evaluate Logistic Regression, Penalized Logistic Regression, and KNN for classification using cross-validation. How different are the results? \n",
    "\n",
    "## How does scaling the data with StandardScaler influence the results?"
   ]
  },
  {
   "cell_type": "code",
   "execution_count": 57,
   "metadata": {
    "colab": {
     "base_uri": "https://localhost:8080/",
     "height": 197
    },
    "id": "1e_HO8xmnrc4",
    "outputId": "15148c87-921f-4eeb-ac59-20c3dafcd03a"
   },
   "outputs": [
    {
     "data": {
      "text/html": [
       "<div>\n",
       "<style scoped>\n",
       "    .dataframe tbody tr th:only-of-type {\n",
       "        vertical-align: middle;\n",
       "    }\n",
       "\n",
       "    .dataframe tbody tr th {\n",
       "        vertical-align: top;\n",
       "    }\n",
       "\n",
       "    .dataframe thead th {\n",
       "        text-align: right;\n",
       "    }\n",
       "</style>\n",
       "<table border=\"1\" class=\"dataframe\">\n",
       "  <thead>\n",
       "    <tr style=\"text-align: right;\">\n",
       "      <th></th>\n",
       "      <th>fixed acidity</th>\n",
       "      <th>volatile acidity</th>\n",
       "      <th>citric acid</th>\n",
       "      <th>residual sugar</th>\n",
       "      <th>chlorides</th>\n",
       "      <th>free sulfur dioxide</th>\n",
       "      <th>total sulfur dioxide</th>\n",
       "      <th>density</th>\n",
       "      <th>pH</th>\n",
       "      <th>sulphates</th>\n",
       "      <th>alcohol</th>\n",
       "      <th>quality</th>\n",
       "    </tr>\n",
       "  </thead>\n",
       "  <tbody>\n",
       "    <tr>\n",
       "      <th>0</th>\n",
       "      <td>7.4</td>\n",
       "      <td>0.70</td>\n",
       "      <td>0.00</td>\n",
       "      <td>1.9</td>\n",
       "      <td>0.076</td>\n",
       "      <td>11.0</td>\n",
       "      <td>34.0</td>\n",
       "      <td>0.9978</td>\n",
       "      <td>3.51</td>\n",
       "      <td>0.56</td>\n",
       "      <td>9.4</td>\n",
       "      <td>5</td>\n",
       "    </tr>\n",
       "    <tr>\n",
       "      <th>1</th>\n",
       "      <td>7.8</td>\n",
       "      <td>0.88</td>\n",
       "      <td>0.00</td>\n",
       "      <td>2.6</td>\n",
       "      <td>0.098</td>\n",
       "      <td>25.0</td>\n",
       "      <td>67.0</td>\n",
       "      <td>0.9968</td>\n",
       "      <td>3.20</td>\n",
       "      <td>0.68</td>\n",
       "      <td>9.8</td>\n",
       "      <td>5</td>\n",
       "    </tr>\n",
       "    <tr>\n",
       "      <th>2</th>\n",
       "      <td>7.8</td>\n",
       "      <td>0.76</td>\n",
       "      <td>0.04</td>\n",
       "      <td>2.3</td>\n",
       "      <td>0.092</td>\n",
       "      <td>15.0</td>\n",
       "      <td>54.0</td>\n",
       "      <td>0.9970</td>\n",
       "      <td>3.26</td>\n",
       "      <td>0.65</td>\n",
       "      <td>9.8</td>\n",
       "      <td>5</td>\n",
       "    </tr>\n",
       "    <tr>\n",
       "      <th>3</th>\n",
       "      <td>11.2</td>\n",
       "      <td>0.28</td>\n",
       "      <td>0.56</td>\n",
       "      <td>1.9</td>\n",
       "      <td>0.075</td>\n",
       "      <td>17.0</td>\n",
       "      <td>60.0</td>\n",
       "      <td>0.9980</td>\n",
       "      <td>3.16</td>\n",
       "      <td>0.58</td>\n",
       "      <td>9.8</td>\n",
       "      <td>6</td>\n",
       "    </tr>\n",
       "    <tr>\n",
       "      <th>4</th>\n",
       "      <td>7.4</td>\n",
       "      <td>0.70</td>\n",
       "      <td>0.00</td>\n",
       "      <td>1.9</td>\n",
       "      <td>0.076</td>\n",
       "      <td>11.0</td>\n",
       "      <td>34.0</td>\n",
       "      <td>0.9978</td>\n",
       "      <td>3.51</td>\n",
       "      <td>0.56</td>\n",
       "      <td>9.4</td>\n",
       "      <td>5</td>\n",
       "    </tr>\n",
       "  </tbody>\n",
       "</table>\n",
       "</div>"
      ],
      "text/plain": [
       "   fixed acidity  volatile acidity  citric acid  residual sugar  chlorides  \\\n",
       "0            7.4              0.70         0.00             1.9      0.076   \n",
       "1            7.8              0.88         0.00             2.6      0.098   \n",
       "2            7.8              0.76         0.04             2.3      0.092   \n",
       "3           11.2              0.28         0.56             1.9      0.075   \n",
       "4            7.4              0.70         0.00             1.9      0.076   \n",
       "\n",
       "   free sulfur dioxide  total sulfur dioxide  density    pH  sulphates  \\\n",
       "0                 11.0                  34.0   0.9978  3.51       0.56   \n",
       "1                 25.0                  67.0   0.9968  3.20       0.68   \n",
       "2                 15.0                  54.0   0.9970  3.26       0.65   \n",
       "3                 17.0                  60.0   0.9980  3.16       0.58   \n",
       "4                 11.0                  34.0   0.9978  3.51       0.56   \n",
       "\n",
       "   alcohol  quality  \n",
       "0      9.4        5  \n",
       "1      9.8        5  \n",
       "2      9.8        5  \n",
       "3      9.8        6  \n",
       "4      9.4        5  "
      ]
     },
     "execution_count": 57,
     "metadata": {},
     "output_type": "execute_result"
    }
   ],
   "source": [
    "from sklearn.linear_model import LinearRegression\n",
    "from sklearn.model_selection import train_test_split\n",
    "\n",
    "y = df['winetype']\n",
    "X = df.loc[:, df.columns != 'winetype'] #Choose all the raws and all the columns except \"winetype\"\n",
    "\n",
    "\n",
    "X.head()\n"
   ]
  },
  {
   "cell_type": "code",
   "execution_count": 58,
   "metadata": {
    "colab": {
     "base_uri": "https://localhost:8080/",
     "height": 123
    },
    "id": "2PdHCFWQC27l",
    "outputId": "36cb0237-f555-4ce5-e938-6c311f89bf8c"
   },
   "outputs": [
    {
     "data": {
      "text/plain": [
       "0    1\n",
       "1    1\n",
       "2    1\n",
       "3    1\n",
       "4    1\n",
       "Name: winetype, dtype: int64"
      ]
     },
     "execution_count": 58,
     "metadata": {},
     "output_type": "execute_result"
    }
   ],
   "source": [
    "y.head()"
   ]
  },
  {
   "cell_type": "code",
   "execution_count": 59,
   "metadata": {
    "colab": {
     "base_uri": "https://localhost:8080/",
     "height": 123
    },
    "id": "SKZrSIafDG-1",
    "outputId": "119688e5-29f8-4d61-b5ca-a8147b675b5b"
   },
   "outputs": [
    {
     "data": {
      "text/plain": [
       "4893    0\n",
       "4894    0\n",
       "4895    0\n",
       "4896    0\n",
       "4897    0\n",
       "Name: winetype, dtype: int64"
      ]
     },
     "execution_count": 59,
     "metadata": {},
     "output_type": "execute_result"
    }
   ],
   "source": [
    "y.tail()"
   ]
  },
  {
   "cell_type": "code",
   "execution_count": 60,
   "metadata": {
    "colab": {
     "base_uri": "https://localhost:8080/",
     "height": 197
    },
    "id": "fzvCOf-Fol8T",
    "outputId": "a6a80b96-d875-4d2d-a3b4-05ebaa8eb712"
   },
   "outputs": [
    {
     "data": {
      "text/html": [
       "<div>\n",
       "<style scoped>\n",
       "    .dataframe tbody tr th:only-of-type {\n",
       "        vertical-align: middle;\n",
       "    }\n",
       "\n",
       "    .dataframe tbody tr th {\n",
       "        vertical-align: top;\n",
       "    }\n",
       "\n",
       "    .dataframe thead th {\n",
       "        text-align: right;\n",
       "    }\n",
       "</style>\n",
       "<table border=\"1\" class=\"dataframe\">\n",
       "  <thead>\n",
       "    <tr style=\"text-align: right;\">\n",
       "      <th></th>\n",
       "      <th>fixed acidity</th>\n",
       "      <th>volatile acidity</th>\n",
       "      <th>citric acid</th>\n",
       "      <th>residual sugar</th>\n",
       "      <th>chlorides</th>\n",
       "      <th>free sulfur dioxide</th>\n",
       "      <th>total sulfur dioxide</th>\n",
       "      <th>density</th>\n",
       "      <th>pH</th>\n",
       "      <th>sulphates</th>\n",
       "      <th>alcohol</th>\n",
       "      <th>quality</th>\n",
       "    </tr>\n",
       "  </thead>\n",
       "  <tbody>\n",
       "    <tr>\n",
       "      <th>411</th>\n",
       "      <td>7.3</td>\n",
       "      <td>0.28</td>\n",
       "      <td>0.36</td>\n",
       "      <td>12.7</td>\n",
       "      <td>0.040</td>\n",
       "      <td>38.0</td>\n",
       "      <td>140.0</td>\n",
       "      <td>0.99800</td>\n",
       "      <td>3.30</td>\n",
       "      <td>0.79</td>\n",
       "      <td>9.60</td>\n",
       "      <td>6</td>\n",
       "    </tr>\n",
       "    <tr>\n",
       "      <th>3263</th>\n",
       "      <td>6.5</td>\n",
       "      <td>0.26</td>\n",
       "      <td>0.31</td>\n",
       "      <td>3.6</td>\n",
       "      <td>0.030</td>\n",
       "      <td>36.0</td>\n",
       "      <td>92.0</td>\n",
       "      <td>0.99026</td>\n",
       "      <td>3.22</td>\n",
       "      <td>0.62</td>\n",
       "      <td>12.60</td>\n",
       "      <td>8</td>\n",
       "    </tr>\n",
       "    <tr>\n",
       "      <th>3753</th>\n",
       "      <td>6.6</td>\n",
       "      <td>0.27</td>\n",
       "      <td>0.33</td>\n",
       "      <td>1.4</td>\n",
       "      <td>0.042</td>\n",
       "      <td>24.0</td>\n",
       "      <td>183.0</td>\n",
       "      <td>0.99215</td>\n",
       "      <td>3.29</td>\n",
       "      <td>0.46</td>\n",
       "      <td>10.70</td>\n",
       "      <td>5</td>\n",
       "    </tr>\n",
       "    <tr>\n",
       "      <th>3009</th>\n",
       "      <td>6.5</td>\n",
       "      <td>0.20</td>\n",
       "      <td>0.50</td>\n",
       "      <td>18.1</td>\n",
       "      <td>0.054</td>\n",
       "      <td>50.0</td>\n",
       "      <td>221.0</td>\n",
       "      <td>0.99941</td>\n",
       "      <td>2.94</td>\n",
       "      <td>0.64</td>\n",
       "      <td>8.80</td>\n",
       "      <td>6</td>\n",
       "    </tr>\n",
       "    <tr>\n",
       "      <th>4493</th>\n",
       "      <td>6.8</td>\n",
       "      <td>0.31</td>\n",
       "      <td>0.25</td>\n",
       "      <td>10.5</td>\n",
       "      <td>0.043</td>\n",
       "      <td>30.0</td>\n",
       "      <td>165.0</td>\n",
       "      <td>0.99720</td>\n",
       "      <td>3.36</td>\n",
       "      <td>0.55</td>\n",
       "      <td>10.55</td>\n",
       "      <td>6</td>\n",
       "    </tr>\n",
       "  </tbody>\n",
       "</table>\n",
       "</div>"
      ],
      "text/plain": [
       "      fixed acidity  volatile acidity  citric acid  residual sugar  chlorides  \\\n",
       "411             7.3              0.28         0.36            12.7      0.040   \n",
       "3263            6.5              0.26         0.31             3.6      0.030   \n",
       "3753            6.6              0.27         0.33             1.4      0.042   \n",
       "3009            6.5              0.20         0.50            18.1      0.054   \n",
       "4493            6.8              0.31         0.25            10.5      0.043   \n",
       "\n",
       "      free sulfur dioxide  total sulfur dioxide  density    pH  sulphates  \\\n",
       "411                  38.0                 140.0  0.99800  3.30       0.79   \n",
       "3263                 36.0                  92.0  0.99026  3.22       0.62   \n",
       "3753                 24.0                 183.0  0.99215  3.29       0.46   \n",
       "3009                 50.0                 221.0  0.99941  2.94       0.64   \n",
       "4493                 30.0                 165.0  0.99720  3.36       0.55   \n",
       "\n",
       "      alcohol  quality  \n",
       "411      9.60        6  \n",
       "3263    12.60        8  \n",
       "3753    10.70        5  \n",
       "3009     8.80        6  \n",
       "4493    10.55        6  "
      ]
     },
     "execution_count": 60,
     "metadata": {},
     "output_type": "execute_result"
    }
   ],
   "source": [
    "X_train, X_test, y_train, y_test = train_test_split(X, y)\n",
    "\n",
    "X_train.head()"
   ]
  },
  {
   "cell_type": "markdown",
   "metadata": {
    "id": "GcnZPS2lQmp8"
   },
   "source": [
    "## Evaluate Logistic Regression using cross-validation."
   ]
  },
  {
   "cell_type": "code",
   "execution_count": 61,
   "metadata": {
    "colab": {
     "base_uri": "https://localhost:8080/",
     "height": 52
    },
    "id": "TYYUMd9vesi7",
    "outputId": "d91db393-8d2d-4108-e1c3-cf344d3c1553"
   },
   "outputs": [
    {
     "name": "stdout",
     "output_type": "stream",
     "text": [
      "CV score without scaler: 0.990148\n",
      "test score with scaler: 0.993846\n"
     ]
    }
   ],
   "source": [
    "from sklearn.linear_model import LogisticRegression\n",
    "from sklearn.model_selection import cross_val_score\n",
    "\n",
    "logistic_cv = LogisticRegression(penalty=\"none\",max_iter=5000)\n",
    "logistic_cv.fit(X_train,y_train)\n",
    "\n",
    "print(\"CV score without scaler: {:.6f}\".format(np.mean(cross_val_score(\n",
    "    logistic_cv, X_train, y_train, cv=5))))\n",
    "print(\"test score with scaler: {:.6f}\".format(logistic_cv.score(X_test, y_test)))\n"
   ]
  },
  {
   "cell_type": "markdown",
   "metadata": {
    "id": "031gAf3tf5o3"
   },
   "source": [
    "## Train with Logistic Regression using Cross-Validation with standard scaler"
   ]
  },
  {
   "cell_type": "code",
   "execution_count": 62,
   "metadata": {
    "colab": {
     "base_uri": "https://localhost:8080/",
     "height": 52
    },
    "id": "tbncdU8Qe82Y",
    "outputId": "0cee5642-7592-43b9-bc47-ea3a7b8b3350"
   },
   "outputs": [
    {
     "name": "stdout",
     "output_type": "stream",
     "text": [
      "CV score with scaler: 0.994869\n",
      "test score with sclaer: 0.993846\n"
     ]
    }
   ],
   "source": [
    "from sklearn import preprocessing\n",
    "from sklearn.preprocessing import StandardScaler\n",
    "from sklearn.model_selection import KFold, cross_val_score\n",
    "from sklearn.linear_model import LogisticRegression\n",
    "\n",
    "scaler = StandardScaler()\n",
    "scaler.fit(X_train)\n",
    "\n",
    "X_train_scaled = scaler.transform(X_train)\n",
    "X_test_scaled = scaler.transform(X_test)\n",
    "\n",
    "logistic_cv = LogisticRegression(penalty=\"none\",max_iter=5000)\n",
    "logistic_cv.fit(X_train_scaled,y_train)\n",
    "\n",
    "print(\"CV score with scaler: {:.6f}\".format(np.mean(cross_val_score(\n",
    "    logistic_cv, X_train_scaled, y_train, cv=5))))\n",
    "print(\"test score with sclaer: {:.6f}\".format(logistic_cv.score(X_test_scaled, y_test)))\n"
   ]
  },
  {
   "cell_type": "code",
   "execution_count": null,
   "metadata": {
    "id": "jdWVJCi7jZPU"
   },
   "outputs": [],
   "source": [
    "From Logistic Regression, we can see that the standard scaler did not improve the performance"
   ]
  },
  {
   "cell_type": "markdown",
   "metadata": {
    "id": "Bs0ZxxOedfm_"
   },
   "source": [
    "## Evaluate Penalized Logistic Regression using cross-validation. penalty='l2'"
   ]
  },
  {
   "cell_type": "code",
   "execution_count": 63,
   "metadata": {
    "colab": {
     "base_uri": "https://localhost:8080/",
     "height": 34
    },
    "id": "r-BQk0Ungn1F",
    "outputId": "2d18d240-cbf2-4c15-b115-5715fd97b4a5"
   },
   "outputs": [
    {
     "name": "stdout",
     "output_type": "stream",
     "text": [
      "The score for GrideSeachCV with LogisticRegressionCV is:  0.984301415289868\n"
     ]
    }
   ],
   "source": [
    "from sklearn.model_selection import GridSearchCV\n",
    "from sklearn.pipeline import make_pipeline\n",
    "from sklearn.linear_model import LogisticRegressionCV\n",
    "from sklearn import preprocessing\n",
    "from sklearn.preprocessing import StandardScaler\n",
    "from sklearn.model_selection import KFold, cross_val_score\n",
    "from sklearn.linear_model import LogisticRegression\n",
    "\n",
    "# Create standardizer\n",
    "standardizer = StandardScaler()\n",
    "# Create logistic regression\n",
    "logit = LogisticRegression(penalty=\"l2\",max_iter=5000,solver=\"lbfgs\")\n",
    "\n",
    "# Create a pipeline that standardizes, then runs logistic regression\n",
    "pipeline = make_pipeline(logit)\n",
    "\n",
    "# Create k-Fold cross-validation\n",
    "# kf = KFold()\n",
    "\n",
    "# Do k-fold cross-validation\n",
    "cv_results = cross_val_score(pipeline, # Pipeline\n",
    "                             X, # Feature matrix\n",
    "                             y, # Target vector\n",
    "                             scoring=\"accuracy\", # Loss function\n",
    "                             n_jobs=-1) # Use all CPU scores\n",
    "\n",
    "# Calculate mean\n",
    "cv_results.mean()\n",
    "\n",
    "\n",
    "print('The score for GrideSeachCV with LogisticRegressionCV is: ',cv_results.mean())\n"
   ]
  },
  {
   "cell_type": "code",
   "execution_count": 67,
   "metadata": {
    "colab": {
     "base_uri": "https://localhost:8080/",
     "height": 52
    },
    "id": "Pd-NvYqDgCNd",
    "outputId": "32882b8f-6ad1-400c-c471-52e505ac9145"
   },
   "outputs": [
    {
     "name": "stdout",
     "output_type": "stream",
     "text": [
      "CV score without scaler: 0.985428\n",
      "test without scaler: 0.980923\n"
     ]
    }
   ],
   "source": [
    "logistic_cvl2 = LogisticRegression(penalty=\"l2\",max_iter=5000,solver=\"lbfgs\")\n",
    "logistic_cvl2.fit(X_train,y_train)\n",
    "\n",
    "print(\"CV score without scaler: {:.6f}\".format(np.mean(cross_val_score(\n",
    "    logistic_cvl2, X_train, y_train, cv=5))))\n",
    "print(\"test without scaler: {:.6f}\".format(logistic_cvl2.score(X_test, y_test)))\n",
    "\n",
    "\n"
   ]
  },
  {
   "cell_type": "markdown",
   "metadata": {
    "id": "_vMp4If-gx-O"
   },
   "source": [
    "## Evaluate Penalized Logistic Regression using cross-validation with standard scaler\n"
   ]
  },
  {
   "cell_type": "code",
   "execution_count": 68,
   "metadata": {
    "colab": {
     "base_uri": "https://localhost:8080/",
     "height": 52
    },
    "id": "4lpMF-QcgXg4",
    "outputId": "d77f3ba4-b1a2-4c7c-f622-79bc7fa7dbfd"
   },
   "outputs": [
    {
     "name": "stdout",
     "output_type": "stream",
     "text": [
      "CV score with scaler: 0.9945\n",
      "test score with scaler: 0.9945\n"
     ]
    }
   ],
   "source": [
    "from sklearn import preprocessing\n",
    "from sklearn.preprocessing import StandardScaler\n",
    "from sklearn.model_selection import KFold, cross_val_score\n",
    "from sklearn.linear_model import LogisticRegression\n",
    "\n",
    "scaler = StandardScaler()\n",
    "scaler.fit(X_train)\n",
    "\n",
    "X_train_scaled = scaler.transform(X_train)\n",
    "X_test_scaled = scaler.transform(X_test)\n",
    "\n",
    "logistic_cvl2 = LogisticRegression(penalty=\"l2\",max_iter=5000,solver=\"lbfgs\")\n",
    "logistic_cvl2.fit(X_train_scaled,y_train)\n",
    "\n",
    "print(\"CV score with scaler: {:.4f}\".format(np.mean(cross_val_score(\n",
    "    logistic_cvl2, X_train_scaled, y_train, cv=5))))\n",
    "print(\"test score with scaler: {:.4f}\".format(logistic_cvl2.score(X_test_scaled, y_test)))"
   ]
  },
  {
   "cell_type": "markdown",
   "metadata": {
    "id": "sIiMwMqokDKx"
   },
   "source": [
    "From Logistic Regression with penalty l2, we can see that the standard scaler did improve the performance"
   ]
  },
  {
   "cell_type": "markdown",
   "metadata": {
    "id": "g__aHdiokaD5"
   },
   "source": [
    "## Evaluate Penalized Logistic Regression using cross-validation. penalty='l1'"
   ]
  },
  {
   "cell_type": "code",
   "execution_count": 69,
   "metadata": {
    "colab": {
     "base_uri": "https://localhost:8080/",
     "height": 34
    },
    "id": "V79R9Pxuknmq",
    "outputId": "a01498f2-3eae-4084-cac5-8af23cb1d40a"
   },
   "outputs": [
    {
     "name": "stdout",
     "output_type": "stream",
     "text": [
      "The score for GrideSeachCV with LogisticRegressionCV is:  0.9869175105110439\n"
     ]
    }
   ],
   "source": [
    "from sklearn.model_selection import GridSearchCV\n",
    "from sklearn.pipeline import make_pipeline\n",
    "from sklearn.linear_model import LogisticRegressionCV\n",
    "from sklearn import preprocessing\n",
    "from sklearn.preprocessing import StandardScaler\n",
    "from sklearn.model_selection import KFold, cross_val_score\n",
    "from sklearn.linear_model import LogisticRegression\n",
    "\n",
    "# Create standardizer\n",
    "standardizer = StandardScaler()\n",
    "# Create logistic regression\n",
    "logit = LogisticRegression(penalty=\"l1\",max_iter=5000,solver=\"liblinear\")\n",
    "\n",
    "# Create a pipeline that standardizes, then runs logistic regression\n",
    "pipeline = make_pipeline(logit)\n",
    "\n",
    "# Create k-Fold cross-validation\n",
    "# kf = KFold()\n",
    "\n",
    "# Do k-fold cross-validation\n",
    "cv_results = cross_val_score(pipeline, # Pipeline\n",
    "                             X, # Feature matrix\n",
    "                             y, # Target vector\n",
    "                             scoring=\"accuracy\", # Loss function\n",
    "                             n_jobs=-1) # Use all CPU scores\n",
    "\n",
    "# Calculate mean\n",
    "cv_results.mean()\n",
    "\n",
    "\n",
    "print('The score for GrideSeachCV with LogisticRegressionCV is: ',cv_results.mean())"
   ]
  },
  {
   "cell_type": "code",
   "execution_count": 70,
   "metadata": {
    "colab": {
     "base_uri": "https://localhost:8080/",
     "height": 52
    },
    "id": "5t03AEl9k5jd",
    "outputId": "f05dcbf2-ac92-49cc-9904-424fe4417e9d"
   },
   "outputs": [
    {
     "name": "stdout",
     "output_type": "stream",
     "text": [
      "CV score without scaler: 0.9854\n",
      "test score without sclaer: 0.7668\n"
     ]
    }
   ],
   "source": [
    "logistic_cvl1 = LogisticRegression(penalty=\"l1\",max_iter=5000,solver=\"liblinear\")\n",
    "logistic_cvl1.fit(X_train,y_train)\n",
    "\n",
    "print(\"CV score without scaler: {:.4f}\".format(np.mean(cross_val_score(\n",
    "    logistic_cvl2, X_train, y_train, cv=5))))\n",
    "print(\"test score without sclaer: {:.4f}\".format(logistic_cvl2.score(X_test, y_test)))\n",
    "\n"
   ]
  },
  {
   "cell_type": "markdown",
   "metadata": {
    "id": "qbr07BsMlRA8"
   },
   "source": [
    "## Evaluate Penalized l1 Logistic Regression using cross-validation with standard scaler"
   ]
  },
  {
   "cell_type": "code",
   "execution_count": 71,
   "metadata": {
    "colab": {
     "base_uri": "https://localhost:8080/",
     "height": 52
    },
    "id": "c53byHJ8lTZN",
    "outputId": "b27736c5-12a3-4a15-ae0c-f9556fcbd203"
   },
   "outputs": [
    {
     "name": "stdout",
     "output_type": "stream",
     "text": [
      "CV score with scaler: 0.9947\n",
      "test score with scaler: 0.9938\n"
     ]
    }
   ],
   "source": [
    "scaler = StandardScaler()\n",
    "scaler.fit(X_train)\n",
    "\n",
    "X_train_scaled = scaler.transform(X_train)\n",
    "X_test_scaled = scaler.transform(X_test)\n",
    "\n",
    "logistic_cvl1 = LogisticRegression(penalty=\"l1\",max_iter=5000,solver=\"liblinear\")\n",
    "logistic_cvl1.fit(X_train_scaled,y_train)\n",
    "\n",
    "print(\"CV score with scaler: {:.4f}\".format(np.mean(cross_val_score(\n",
    "    logistic_cvl1, X_train_scaled, y_train, cv=5))))\n",
    "print(\"test score with scaler: {:.4f}\".format(logistic_cvl1.score(X_test_scaled, y_test)))\n"
   ]
  },
  {
   "cell_type": "markdown",
   "metadata": {},
   "source": [
    "From the result, we can clearly see that standard scaler help with the score for Penalized l1 Logistic Regression"
   ]
  },
  {
   "cell_type": "markdown",
   "metadata": {
    "id": "ZQ6qx8yj0Nal"
   },
   "source": [
    "## Evaluate KNN for classification using cross-validation."
   ]
  },
  {
   "cell_type": "markdown",
   "metadata": {
    "id": "CAF4yDrmdGlZ"
   },
   "source": [
    "Instead of arbitrarily choosing alpha , it would be better to use cross-validation to choose the tuning parameter alpha. We can do this using the cross-validated ridge regression function, RidgeCV(). By default, the function performs generalized cross-validation (an efficient form of LOOCV), though this can be changed using the argument cv."
   ]
  },
  {
   "cell_type": "code",
   "execution_count": 72,
   "metadata": {
    "colab": {
     "base_uri": "https://localhost:8080/",
     "height": 34
    },
    "id": "dfOEfnMU0u7X",
    "outputId": "181b1934-7d8b-4a31-8360-138de6479281"
   },
   "outputs": [
    {
     "name": "stdout",
     "output_type": "stream",
     "text": [
      "The score for KNN with CV is:  0.9379734707171197\n"
     ]
    }
   ],
   "source": [
    "from sklearn.model_selection import GridSearchCV\n",
    "from sklearn.pipeline import make_pipeline\n",
    "from sklearn.neighbors import KNeighborsClassifier\n",
    "from sklearn import preprocessing\n",
    "from sklearn.preprocessing import StandardScaler\n",
    "from sklearn.model_selection import KFold, cross_val_score\n",
    "\n",
    "\n",
    "# Create a KNN Classifier\n",
    "knn = KNeighborsClassifier()\n",
    "\n",
    "# Create a pipeline that standardizes, then runs logistic regression\n",
    "pipeline = make_pipeline(knn)\n",
    "\n",
    "# Create k-Fold cross-validation\n",
    "# kf = KFold()\n",
    "\n",
    "# Do k-fold cross-validation\n",
    "cv_results = cross_val_score(pipeline, # Pipeline\n",
    "                             X, # Feature matrix\n",
    "                             y, # Target vector\n",
    "                             scoring=\"accuracy\", # Loss function\n",
    "                             n_jobs=-1) # Use all CPU scores\n",
    "\n",
    "# Calculate mean\n",
    "cv_results.mean()\n",
    "\n",
    "\n",
    "print('The score for KNN with CV is: ',cv_results.mean())"
   ]
  },
  {
   "cell_type": "markdown",
   "metadata": {
    "id": "f99z2hsxear3"
   },
   "source": [
    "## Evaluate KNN for classification using with standard  cross-validation."
   ]
  },
  {
   "cell_type": "code",
   "execution_count": 73,
   "metadata": {
    "colab": {
     "base_uri": "https://localhost:8080/",
     "height": 34
    },
    "id": "zGEw1YTeNt1j",
    "outputId": "3dc29a0d-5bc3-419a-9725-f6a196a00566"
   },
   "outputs": [
    {
     "name": "stdout",
     "output_type": "stream",
     "text": [
      "The score for KNN with standarlized CV is:  0.9913807070527625\n"
     ]
    }
   ],
   "source": [
    "from sklearn.datasets import load_iris\n",
    "from sklearn.pipeline import make_pipeline\n",
    "from sklearn import preprocessing\n",
    "from sklearn.model_selection import cross_validate\n",
    "from sklearn.model_selection import cross_val_score\n",
    "from sklearn.neighbors import KNeighborsClassifier\n",
    "from sklearn.preprocessing import StandardScaler\n",
    "from sklearn.model_selection import GridSearchCV\n",
    "\n",
    "\n",
    "knn = KNeighborsClassifier().fit(X, y)\n",
    "\n",
    "classifier_pipeline = make_pipeline(preprocessing.StandardScaler(), knn)\n",
    "\n",
    "# KFold/StratifiedKFold cross validation with 3 folds (the default)\n",
    "# applying the classifier pipeline to the feature and target data\n",
    "scores = cross_val_score(classifier_pipeline, X, y)\n",
    "\n",
    "scores\n",
    "\n",
    "scores.mean()\n",
    "\n",
    "print('The score for KNN with standarlized CV is: ',scores.mean())"
   ]
  },
  {
   "cell_type": "markdown",
   "metadata": {},
   "source": [
    "We can claearly see that scaler help KNN in its scores"
   ]
  },
  {
   "cell_type": "markdown",
   "metadata": {
    "id": "-YRceZHqk3UN"
   },
   "source": [
    "## 2.3 Tune the parameters where possible using GridSearchCV. Do the results improve?"
   ]
  },
  {
   "cell_type": "markdown",
   "metadata": {
    "id": "RmoebzQYoa8c"
   },
   "source": [
    "The logistic regression does not has a tuning parameter, so I just ignore it"
   ]
  },
  {
   "cell_type": "markdown",
   "metadata": {
    "id": "zrw4Z6-Alcj1"
   },
   "source": [
    "## GridSearchCV with l1 Penalized Losistic Regression"
   ]
  },
  {
   "cell_type": "code",
   "execution_count": 74,
   "metadata": {
    "colab": {
     "base_uri": "https://localhost:8080/",
     "height": 70
    },
    "id": "iixJM55mmSzC",
    "outputId": "a5046842-ae27-4b4e-a3bb-423f960754eb"
   },
   "outputs": [
    {
     "name": "stdout",
     "output_type": "stream",
     "text": [
      "best mean cross-validation score: 0.994664\n",
      "best parameters: {'C': 1}\n",
      "test-set score: 0.993846\n"
     ]
    }
   ],
   "source": [
    "params = {\"C\": [1,0.9999999,0.9999,0.9,0.5,0.1,0.025,0.01,0.0025,0.001]}\n",
    "\n",
    "grid = GridSearchCV(LogisticRegression(max_iter=1000,penalty=\"l1\",solver=\"liblinear\"),param_grid = params,cv=5)\n",
    "\n",
    "grid.fit(X_train_scaled, y_train)\n",
    "\n",
    "# Mean cross-validated score of the best_estimator\n",
    "print(\"best mean cross-validation score: {:.6f}\".format(grid.best_score_))\n",
    "# Parameter setting that gave the best results on the hold out data.\n",
    "print(\"best parameters: {}\".format(grid.best_params_))\n",
    "print(\"test-set score: {:.6f}\".format(grid.score(X_test_scaled, y_test)))"
   ]
  },
  {
   "cell_type": "markdown",
   "metadata": {
    "id": "Lyr7eMRvnJSw"
   },
   "source": [
    "## GridSearchCV with l2 Penalized Losistic Regression"
   ]
  },
  {
   "cell_type": "code",
   "execution_count": 75,
   "metadata": {
    "colab": {
     "base_uri": "https://localhost:8080/",
     "height": 70
    },
    "id": "j-KqB5eRmhme",
    "outputId": "2c649fbd-b8bc-4f68-b2ec-493a249fed2c"
   },
   "outputs": [
    {
     "name": "stdout",
     "output_type": "stream",
     "text": [
      "best mean cross-validation score: 0.994459\n",
      "best parameters: {'C': 1}\n",
      "test-set score: 0.994462\n"
     ]
    }
   ],
   "source": [
    "params = {\"C\": [1,0.9999999,0.9999,0.9,0.5,0.1,0.025,0.01,0.0025,0.001]}\n",
    "\n",
    "grid = GridSearchCV(LogisticRegression(max_iter=1000,penalty=\"l2\",solver=\"lbfgs\"),param_grid = params,cv=5)\n",
    "\n",
    "grid.fit(X_train_scaled, y_train)\n",
    "\n",
    "# Mean cross-validated score of the best_estimator\n",
    "print(\"best mean cross-validation score: {:.6f}\".format(grid.best_score_))\n",
    "# Parameter setting that gave the best results on the hold out data.\n",
    "print(\"best parameters: {}\".format(grid.best_params_))\n",
    "print(\"test-set score: {:.6f}\".format(grid.score(X_test_scaled, y_test)))"
   ]
  },
  {
   "cell_type": "markdown",
   "metadata": {
    "id": "qAwaXlx-plXL"
   },
   "source": [
    "## GridSearchCV with KNN Classifier"
   ]
  },
  {
   "cell_type": "code",
   "execution_count": 76,
   "metadata": {
    "colab": {
     "base_uri": "https://localhost:8080/",
     "height": 70
    },
    "id": "IpP0MabHnvPR",
    "outputId": "87b4f606-2da3-4f76-c6fd-34975190374e"
   },
   "outputs": [
    {
     "name": "stdout",
     "output_type": "stream",
     "text": [
      "best mean cross-validation score: 0.9945\n",
      "best parameters: {'n_neighbors': 4}\n",
      "test-set score: 0.9932\n"
     ]
    }
   ],
   "source": [
    "# KNN Regression\n",
    "from sklearn.model_selection import GridSearchCV\n",
    "\n",
    "#grid\n",
    "params = {\"n_neighbors\": np.arange(1,20,3)}\n",
    "\n",
    "grid = GridSearchCV(KNeighborsClassifier(),param_grid = params, cv=5)\n",
    "\n",
    "grid.fit(X_train_scaled, y_train)\n",
    "\n",
    "# Mean cross-validated score of the best_estimator\n",
    "print(\"best mean cross-validation score: {:.4f}\".format(grid.best_score_))\n",
    "# Parameter setting that gave the best results on the hold out data.\n",
    "print(\"best parameters: {}\".format(grid.best_params_))\n",
    "print(\"test-set score: {:.4f}\".format(grid.score(X_test_scaled, y_test)))"
   ]
  },
  {
   "cell_type": "markdown",
   "metadata": {
    "id": "Maq3Q2Sgcoqb"
   },
   "source": [
    "## 2.4. Change the cross-validation strategy in GridSearchCV from ‘stratified k-fold’ to ‘kfold’ with shuffling. Do the parameters for models that can be tuned change? Do they change if you change the random seed of the shuffling? Or if you change the random state of the split into training and test data?"
   ]
  },
  {
   "cell_type": "markdown",
   "metadata": {
    "id": "mmPTUUl6qmWf"
   },
   "source": [
    "## GridSearchCV with Logistic Regression penalty l1 stratified K-FLOD and KFold"
   ]
  },
  {
   "cell_type": "code",
   "execution_count": 77,
   "metadata": {
    "colab": {
     "base_uri": "https://localhost:8080/",
     "height": 70
    },
    "id": "tK7UoVhVqrWM",
    "outputId": "faffe920-2c67-41df-b503-601a958ce8ef"
   },
   "outputs": [
    {
     "name": "stdout",
     "output_type": "stream",
     "text": [
      "LogReg-l1 best mean cross-validation score: 0.9947\n",
      "LogReg-l1 best parameters: {'C': 1}\n",
      "LogReg-l1 test-set score: 0.9938\n"
     ]
    }
   ],
   "source": [
    "# Logistic Regression penalty l1 - StratifiedKFold\n",
    "\n",
    "\n",
    "\n",
    "\n",
    "from sklearn.model_selection import StratifiedKFold\n",
    "# Cross validate model with Kfold stratified grid cross valb\n",
    "skfold = StratifiedKFold(n_splits=10,random_state=0,shuffle=True)\n",
    "\n",
    "# Logistic Regression with Penalty l1\n",
    "params = {\"C\": [1,0.9999999,0.9999,0.9,0.5,0.1,0.025,0.01,0.0025,0.001]}\n",
    "\n",
    "grid = GridSearchCV(LogisticRegression(max_iter=5000,penalty='l1',solver=\"liblinear\"),param_grid = params,cv=skfold)\n",
    "\n",
    "grid.fit(X_train_scaled, y_train)\n",
    "\n",
    "# Mean cross-validated score of the best_estimator\n",
    "print(\"LogReg-l1 best mean cross-validation score: {:.4f}\".format(grid.best_score_))\n",
    "# Parameter setting that gave the best results on the hold out data.\n",
    "print(\"LogReg-l1 best parameters: {}\".format(grid.best_params_))\n",
    "print(\"LogReg-l1 test-set score: {:.4f}\".format(grid.score(X_test_scaled, y_test)))"
   ]
  },
  {
   "cell_type": "code",
   "execution_count": 78,
   "metadata": {
    "colab": {
     "base_uri": "https://localhost:8080/",
     "height": 70
    },
    "id": "3LGWI2rLuQ6K",
    "outputId": "d85ae033-93ad-4cf0-b1d6-47bebc6defe4"
   },
   "outputs": [
    {
     "name": "stdout",
     "output_type": "stream",
     "text": [
      "LogReg-l1 best mean cross-validation score: 0.9953\n",
      "LogReg-l1 best parameters: {'C': 1}\n",
      "LogReg-l1 test-set score: 0.9938\n"
     ]
    }
   ],
   "source": [
    "# Logistic Regression penalty l1 - KFold\n",
    "\n",
    "\n",
    "\n",
    "\n",
    "from sklearn.model_selection import KFold\n",
    "# Cross validate model with Kfold grid cross valb\n",
    "kfold = KFold(n_splits=10,random_state=0,shuffle=True)\n",
    "\n",
    "# Logistic Regression with Penalty l1\n",
    "params = {\"C\": [1,0.9999999,0.9999,0.9,0.5,0.1,0.025,0.01,0.0025,0.001]}\n",
    "\n",
    "grid = GridSearchCV(LogisticRegression(max_iter=5000,penalty='l1',solver=\"liblinear\"),param_grid = params,cv=kfold)\n",
    "\n",
    "grid.fit(X_train_scaled, y_train)\n",
    "\n",
    "# Mean cross-validated score of the best_estimator\n",
    "print(\"LogReg-l1 best mean cross-validation score: {:.4f}\".format(grid.best_score_))\n",
    "# Parameter setting that gave the best results on the hold out data.\n",
    "print(\"LogReg-l1 best parameters: {}\".format(grid.best_params_))\n",
    "print(\"LogReg-l1 test-set score: {:.4f}\".format(grid.score(X_test_scaled, y_test)))"
   ]
  },
  {
   "cell_type": "code",
   "execution_count": 79,
   "metadata": {
    "colab": {
     "base_uri": "https://localhost:8080/",
     "height": 283
    },
    "id": "mwvjfmeuxOwa",
    "outputId": "db6165ad-01c9-49e6-c007-624a36fcb257"
   },
   "outputs": [
    {
     "name": "stdout",
     "output_type": "stream",
     "text": [
      " \n",
      "when random_state =  0\n",
      "LogReg-l1 best parameters: {'C': 1}\n",
      " \n",
      "when random_state =  1\n",
      "LogReg-l1 best parameters: {'C': 0.1}\n",
      " \n",
      "when random_state =  50\n",
      "LogReg-l1 best parameters: {'C': 1}\n",
      " \n",
      "when random_state =  100\n",
      "LogReg-l1 best parameters: {'C': 0.1}\n",
      " \n",
      "when random_state =  100\n",
      "LogReg-l1 best parameters: {'C': 0.1}\n"
     ]
    }
   ],
   "source": [
    "# Logistic Regression penalty l1 - Change random seed of shuffling\n",
    "\n",
    "\n",
    "\n",
    "for i in [0,1,50,100,100]:\n",
    "    kfold = KFold(n_splits=10,random_state=i,shuffle=True)\n",
    "    print(\" \")\n",
    "    print(\"when random_state = \", i)\n",
    "\n",
    "    params = {\"C\": [1,0.9999999,0.9999,0.5,0.1,0.025,0.01,0.001]}\n",
    "\n",
    "    grid = GridSearchCV(LogisticRegression(max_iter=1000,penalty='l1',solver=\"liblinear\"),param_grid = params,cv=kfold)\n",
    "\n",
    "    grid.fit(X_train_scaled, y_train)\n",
    "    \n",
    "\n",
    "   # Parameter setting that gave the best results on the hold out data.\n",
    "    print(\"LogReg-l1 best parameters: {}\".format(grid.best_params_))\n"
   ]
  },
  {
   "cell_type": "markdown",
   "metadata": {
    "id": "fwM9mHJAy3ea"
   },
   "source": [
    "It changes the best parameter C for Losistic regreesion if we change the random state"
   ]
  },
  {
   "cell_type": "markdown",
   "metadata": {
    "id": "z1idvjakuGfp"
   },
   "source": [
    "## GridSearchCV with Logistic Regression penalty l2 stratified K-FLOD and KFold"
   ]
  },
  {
   "cell_type": "code",
   "execution_count": 80,
   "metadata": {
    "colab": {
     "base_uri": "https://localhost:8080/",
     "height": 70
    },
    "id": "SjdYsdqjuvsG",
    "outputId": "e2fc5a93-fbd2-4b24-ff7c-08bf280b4e0e"
   },
   "outputs": [
    {
     "name": "stdout",
     "output_type": "stream",
     "text": [
      "LogReg-l2 best mean cross-validation score: 0.9945\n",
      "LogReg-l2 best parameters: {'C': 1}\n",
      "LogReg-l2 test-set score: 0.9945\n"
     ]
    }
   ],
   "source": [
    "# Logistic Regression penalty l2 - StratifiedKFold\n",
    "\n",
    "\n",
    "\n",
    "\n",
    "from sklearn.model_selection import StratifiedKFold\n",
    "# Cross validate model with Kfold stratified grid cross valb\n",
    "skfold = StratifiedKFold(n_splits=10,random_state=0,shuffle=True)\n",
    "\n",
    "# Logistic Regression with Penalty l2\n",
    "\n",
    "params = {\"C\": [1,0.9999999,0.9999,0.9,0.5,0.1,0.025,0.01,0.0025,0.001]}\n",
    "\n",
    "grid = GridSearchCV(LogisticRegression(max_iter=5000,penalty='l2',solver=\"lbfgs\"),param_grid = params,cv=skfold)\n",
    "\n",
    "grid.fit(X_train_scaled, y_train)\n",
    "\n",
    "# Mean cross-validated score of the best_estimator\n",
    "print(\"LogReg-l2 best mean cross-validation score: {:.4f}\".format(grid.best_score_))\n",
    "# Parameter setting that gave the best results on the hold out data.\n",
    "print(\"LogReg-l2 best parameters: {}\".format(grid.best_params_))\n",
    "print(\"LogReg-l2 test-set score: {:.4f}\".format(grid.score(X_test_scaled, y_test)))"
   ]
  },
  {
   "cell_type": "code",
   "execution_count": 81,
   "metadata": {
    "colab": {
     "base_uri": "https://localhost:8080/",
     "height": 70
    },
    "id": "hBC61Zuru2FX",
    "outputId": "7b99fc51-2f33-4217-abf4-884fda70575c"
   },
   "outputs": [
    {
     "name": "stdout",
     "output_type": "stream",
     "text": [
      "LogReg-l2 best mean cross-validation score: 0.9940\n",
      "LogReg-l2 best parameters: {'C': 0.5}\n",
      "LogReg-l2 test-set score: 0.9938\n"
     ]
    }
   ],
   "source": [
    "# Logistic Regression penalty l2 - KFold\n",
    "\n",
    "\n",
    "\n",
    "from sklearn.model_selection import KFold\n",
    "# Cross validate model with Kfold grid cross valb\n",
    "kfold = KFold(n_splits=10,random_state=0,shuffle=True)\n",
    "\n",
    "# Logistic Regression with Penalty l1\n",
    "params = {\"C\": [1,0.9999999,0.9999,0.9,0.5,0.1,0.025,0.01,0.0025,0.001]}\n",
    "\n",
    "grid = GridSearchCV(LogisticRegression(max_iter=5000,penalty='l2',solver=\"lbfgs\"),param_grid = params,cv=kfold)\n",
    "\n",
    "grid.fit(X_train_scaled, y_train)\n",
    "\n",
    "# Mean cross-validated score of the best_estimator\n",
    "print(\"LogReg-l2 best mean cross-validation score: {:.4f}\".format(grid.best_score_))\n",
    "# Parameter setting that gave the best results on the hold out data.\n",
    "print(\"LogReg-l2 best parameters: {}\".format(grid.best_params_))\n",
    "print(\"LogReg-l2 test-set score: {:.4f}\".format(grid.score(X_test_scaled, y_test)))"
   ]
  },
  {
   "cell_type": "code",
   "execution_count": 82,
   "metadata": {
    "colab": {
     "base_uri": "https://localhost:8080/",
     "height": 283
    },
    "id": "hwgKy2krzK5s",
    "outputId": "ba414b95-c2f7-43e6-c68f-94655d53c96a"
   },
   "outputs": [
    {
     "name": "stdout",
     "output_type": "stream",
     "text": [
      " \n",
      "when random_state =  0\n",
      "LogReg-l1 best parameters: {'C': 0.5}\n",
      " \n",
      "when random_state =  1\n",
      "LogReg-l1 best parameters: {'C': 1}\n",
      " \n",
      "when random_state =  50\n",
      "LogReg-l1 best parameters: {'C': 1}\n",
      " \n",
      "when random_state =  100\n",
      "LogReg-l1 best parameters: {'C': 1}\n",
      " \n",
      "when random_state =  100\n",
      "LogReg-l1 best parameters: {'C': 1}\n"
     ]
    }
   ],
   "source": [
    "# Logistic Regression penalty l2 - Change of randomw state\n",
    "\n",
    "\n",
    "for i in [0,1,50,100,100]:\n",
    "    kfold = KFold(n_splits=10,random_state=i,shuffle=True)\n",
    "    print(\" \")\n",
    "    print(\"when random_state = \", i)\n",
    "\n",
    "    params = {\"C\": [1,0.9999999,0.9999,0.5,0.1,0.025,0.01,0.001]}\n",
    "\n",
    "    grid = GridSearchCV(LogisticRegression(max_iter=1000,penalty='l2'),param_grid = params,cv=kfold)\n",
    "\n",
    "    grid.fit(X_train_scaled, y_train)\n",
    "    \n",
    "\n",
    "   # Parameter setting that gave the best results on the hold out data.\n",
    "    print(\"LogReg-l1 best parameters: {}\".format(grid.best_params_))\n"
   ]
  },
  {
   "cell_type": "markdown",
   "metadata": {
    "id": "pnBPmoO1zmEI"
   },
   "source": [
    "From this we can see that change of the random state does lead to a change in the best parameters, since the C goes form 0.5 to 1"
   ]
  },
  {
   "cell_type": "markdown",
   "metadata": {
    "id": "8MnAhGcAqxZV"
   },
   "source": [
    "## GridSearchCV with KNN stratified K-FLOD and KFold"
   ]
  },
  {
   "cell_type": "code",
   "execution_count": 83,
   "metadata": {
    "colab": {
     "base_uri": "https://localhost:8080/",
     "height": 70
    },
    "id": "UmFDD7J3vVwt",
    "outputId": "475b179c-68b1-4bfb-85d5-23c65d95f612"
   },
   "outputs": [
    {
     "name": "stdout",
     "output_type": "stream",
     "text": [
      "KNN best mean cross-validation score: 0.994047\n",
      "KNN best parameters: {'n_neighbors': 3}\n",
      "KNN test-set score: 0.991385\n"
     ]
    }
   ],
   "source": [
    "# KNN Regression\n",
    "from sklearn.model_selection import GridSearchCV\n",
    "\n",
    "# try more n_neighbors\n",
    "params = {\"n_neighbors\": np.arange(1,17,2)}\n",
    "\n",
    "grid = GridSearchCV(KNeighborsClassifier(),param_grid = params, cv=skfold)\n",
    "\n",
    "grid.fit(X_train_scaled, y_train)\n",
    "\n",
    "# Mean cross-validated score of the best_estimator\n",
    "print(\"KNN best mean cross-validation score: {:.6f}\".format(grid.best_score_))\n",
    "# Parameter setting that gave the best results on the hold out data.\n",
    "print(\"KNN best parameters: {}\".format(grid.best_params_))\n",
    "print(\"KNN test-set score: {:.6f}\".format(grid.score(X_test_scaled, y_test)))"
   ]
  },
  {
   "cell_type": "code",
   "execution_count": 84,
   "metadata": {
    "colab": {
     "base_uri": "https://localhost:8080/",
     "height": 70
    },
    "id": "cW-lNB28vb6m",
    "outputId": "bf45cdae-e530-4bf0-b276-8d16f2a47b98"
   },
   "outputs": [
    {
     "name": "stdout",
     "output_type": "stream",
     "text": [
      "KNN best mean cross-validation score: 0.993842\n",
      "KNN best parameters: {'n_neighbors': 3}\n",
      "KNN test-set score: 0.991385\n"
     ]
    }
   ],
   "source": [
    "# KNN Regression\n",
    "from sklearn.model_selection import GridSearchCV\n",
    "\n",
    "# try more n_neighbors\n",
    "params = {\"n_neighbors\": np.arange(1,17,2)}\n",
    "\n",
    "grid = GridSearchCV(KNeighborsClassifier(),param_grid = params, cv=kfold)\n",
    "\n",
    "grid.fit(X_train_scaled, y_train)\n",
    "\n",
    "# Mean cross-validated score of the best_estimator\n",
    "print(\"KNN best mean cross-validation score: {:.6f}\".format(grid.best_score_))\n",
    "# Parameter setting that gave the best results on the hold out data.\n",
    "print(\"KNN best parameters: {}\".format(grid.best_params_))\n",
    "print(\"KNN test-set score: {:.6f}\".format(grid.score(X_test_scaled, y_test)))"
   ]
  },
  {
   "cell_type": "code",
   "execution_count": 85,
   "metadata": {
    "colab": {
     "base_uri": "https://localhost:8080/",
     "height": 283
    },
    "id": "qdKhc53R0FNN",
    "outputId": "e2aa34e2-ed48-4d31-cc37-1c7c6e3d9e8d"
   },
   "outputs": [
    {
     "name": "stdout",
     "output_type": "stream",
     "text": [
      "\n",
      "when random_state =  0\n",
      "KNN best parameters: {'n_neighbors': 3}\n",
      "\n",
      "when random_state =  1\n",
      "KNN best parameters: {'n_neighbors': 5}\n",
      "\n",
      "when random_state =  50\n",
      "KNN best parameters: {'n_neighbors': 1}\n",
      "\n",
      "when random_state =  100\n",
      "KNN best parameters: {'n_neighbors': 3}\n",
      "\n",
      "when random_state =  100\n",
      "KNN best parameters: {'n_neighbors': 3}\n"
     ]
    }
   ],
   "source": [
    "# KNN change of random state\n",
    "\n",
    "\n",
    "for i in [0,1,50,100,100]:\n",
    "    kfold = KFold(n_splits=10,random_state=i,shuffle=True)\n",
    "    print(\"\")\n",
    "    print(\"when random_state = \", i)\n",
    "    # KNN Regression\n",
    "    from sklearn.model_selection import GridSearchCV\n",
    "\n",
    "    # try more n_neighbors\n",
    "    params = {\"n_neighbors\": np.arange(1,17,2)}\n",
    "\n",
    "    grid = GridSearchCV(KNeighborsClassifier(),param_grid = params, cv=kfold)\n",
    "\n",
    "    grid.fit(X_train_scaled, y_train)\n",
    "\n",
    "\n",
    "    print(\"KNN best parameters: {}\".format(grid.best_params_))"
   ]
  },
  {
   "cell_type": "markdown",
   "metadata": {
    "id": "2YuYsGfW0cDy"
   },
   "source": [
    "From this see can see that change of random state does influence KNN's n_neighbors, from Random state = 50"
   ]
  },
  {
   "cell_type": "markdown",
   "metadata": {
    "id": "K4K-iEglhx8l"
   },
   "source": [
    "## 2.5 Lastly, compare the coefficients for Logistic Regression and Penalized Logistic Regression and discuss which final model you would choose to predict new data."
   ]
  },
  {
   "cell_type": "code",
   "execution_count": 43,
   "metadata": {
    "colab": {
     "base_uri": "https://localhost:8080/",
     "height": 123
    },
    "id": "Yw3GJijE0uBS",
    "outputId": "75557d43-335b-475f-c54c-a1d9f94ee5db",
    "scrolled": true
   },
   "outputs": [
    {
     "name": "stdout",
     "output_type": "stream",
     "text": [
      "coef_logReg:  [[-0.25664567  0.95115316 -0.39634261 -4.34811316  0.81549868  0.97958568\n",
      "  -2.73609813  4.99256598 -0.18971012  0.47088311  1.95771063  0.35784019]]\n"
     ]
    }
   ],
   "source": [
    "coef_logReg = logistic_cv.coef_\n",
    "print(\"coef_logReg: \",coef_logReg)"
   ]
  },
  {
   "cell_type": "code",
   "execution_count": 46,
   "metadata": {},
   "outputs": [
    {
     "name": "stdout",
     "output_type": "stream",
     "text": [
      "coef_logReg_l1:  [[ 0.          0.97859396 -0.35744029 -3.67642051  0.80233971  0.80461357\n",
      "  -2.59702371  4.25665922  0.          0.51693888  1.59113037  0.32151015]]\n"
     ]
    }
   ],
   "source": [
    "# c = 0.9 for l1\n",
    "coef_logReg_l1 = LogisticRegression(penalty=\"l1\",max_iter=5000,solver=\"liblinear\",C=0.9).fit(X_train_scaled,y_train).coef_\n",
    "print(\"coef_logReg_l1: \",coef_logReg_l1)"
   ]
  },
  {
   "cell_type": "code",
   "execution_count": 47,
   "metadata": {},
   "outputs": [
    {
     "name": "stdout",
     "output_type": "stream",
     "text": [
      "coef_logReg_l2:  [[ 0.32092103  1.07271369 -0.34557511 -3.07403774  0.85585695  0.70628661\n",
      "  -2.57382963  3.42902538  0.24240518  0.64173163  1.20764483  0.29859525]]\n"
     ]
    }
   ],
   "source": [
    "# c = 1 for l2\n",
    "coef_logReg_l2 = LogisticRegression(penalty=\"l2\",max_iter=5000,solver=\"lbfgs\",C=1).fit(X_train_scaled,y_train).coef_\n",
    "print(\"coef_logReg_l2: \",coef_logReg_l2)\n"
   ]
  },
  {
   "cell_type": "markdown",
   "metadata": {
    "id": "B1GFLT-31gLx"
   },
   "source": [
    "From the coefficient we can see that the three models all agree that the 8th featyre, density, is the most important feature.\n",
    "\n",
    "If I could, I would like to choose the Logistic Regression with Penalty l1 because it gets rid of some un-important features and focus more on the important features"
   ]
  }
 ],
 "metadata": {
  "colab": {
   "collapsed_sections": [
    "qjmXrV_MMF8x",
    "GcnZPS2lQmp8",
    "031gAf3tf5o3",
    "Bs0ZxxOedfm_",
    "_vMp4If-gx-O",
    "g__aHdiokaD5",
    "qbr07BsMlRA8",
    "ZQ6qx8yj0Nal",
    "f99z2hsxear3",
    "zrw4Z6-Alcj1",
    "Lyr7eMRvnJSw",
    "qAwaXlx-plXL",
    "mmPTUUl6qmWf",
    "z1idvjakuGfp",
    "8MnAhGcAqxZV"
   ],
   "name": "Q2. ML HW2",
   "provenance": []
  },
  "kernelspec": {
   "display_name": "Python 3",
   "language": "python",
   "name": "python3"
  },
  "language_info": {
   "codemirror_mode": {
    "name": "ipython",
    "version": 3
   },
   "file_extension": ".py",
   "mimetype": "text/x-python",
   "name": "python",
   "nbconvert_exporter": "python",
   "pygments_lexer": "ipython3",
   "version": "3.8.3"
  }
 },
 "nbformat": 4,
 "nbformat_minor": 1
}
